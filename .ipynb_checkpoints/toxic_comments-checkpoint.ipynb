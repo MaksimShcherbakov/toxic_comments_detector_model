{
 "cells": [
  {
   "cell_type": "markdown",
   "metadata": {
    "toc": true
   },
   "source": [
    "<h1>Содержание<span class=\"tocSkip\"></span></h1>\n",
    "<div class=\"toc\"><ul class=\"toc-item\"><li><span><a href=\"#Подготовка\" data-toc-modified-id=\"Подготовка-1\"><span class=\"toc-item-num\">1&nbsp;&nbsp;</span>Подготовка</a></span></li><li><span><a href=\"#Обучение\" data-toc-modified-id=\"Обучение-2\"><span class=\"toc-item-num\">2&nbsp;&nbsp;</span>Обучение</a></span></li><li><span><a href=\"#Выводы\" data-toc-modified-id=\"Выводы-3\"><span class=\"toc-item-num\">3&nbsp;&nbsp;</span>Выводы</a></span></li><li><span><a href=\"#Чек-лист-проверки\" data-toc-modified-id=\"Чек-лист-проверки-4\"><span class=\"toc-item-num\">4&nbsp;&nbsp;</span>Чек-лист проверки</a></span></li></ul></div>"
   ]
  },
  {
   "cell_type": "markdown",
   "metadata": {},
   "source": [
    "# Проект для «Викишоп»"
   ]
  },
  {
   "cell_type": "markdown",
   "metadata": {},
   "source": [
    "Интернет-магазин «Викишоп» запускает новый сервис. Теперь пользователи могут редактировать и дополнять описания товаров, как в вики-сообществах. То есть клиенты предлагают свои правки и комментируют изменения других. Магазину нужен инструмент, который будет искать токсичные комментарии и отправлять их на модерацию. \n",
    "\n",
    "Обучите модель классифицировать комментарии на позитивные и негативные. В вашем распоряжении набор данных с разметкой о токсичности правок.\n",
    "\n",
    "Постройте модель со значением метрики качества *F1* не меньше 0.75. \n",
    "\n",
    "**Инструкция по выполнению проекта**\n",
    "\n",
    "1. Загрузите и подготовьте данные.\n",
    "2. Обучите разные модели. \n",
    "3. Сделайте выводы.\n",
    "\n",
    "Для выполнения проекта применять *BERT* необязательно, но вы можете попробовать.\n",
    "\n",
    "**Описание данных**\n",
    "\n",
    "Данные находятся в файле `toxic_comments.csv`. Столбец *text* в нём содержит текст комментария, а *toxic* — целевой признак."
   ]
  },
  {
   "cell_type": "code",
   "execution_count": 18,
   "metadata": {},
   "outputs": [
    {
     "name": "stdout",
     "output_type": "stream",
     "text": [
      "Requirement already satisfied: tqdm in /opt/conda/lib/python3.9/site-packages (4.61.2)\n",
      "Note: you may need to restart the kernel to use updated packages.\n"
     ]
    }
   ],
   "source": [
    "pip install tqdm"
   ]
  },
  {
   "cell_type": "markdown",
   "metadata": {},
   "source": [
    "## Подготовка"
   ]
  },
  {
   "cell_type": "code",
   "execution_count": 19,
   "metadata": {},
   "outputs": [],
   "source": [
    "import re\n",
    "import numpy as np\n",
    "import pandas as pd\n",
    "import nltk\n",
    "\n",
    "from tqdm import tqdm\n",
    "from nltk.corpus import stopwords as nltk_stopwords\n",
    "from nltk.stem import WordNetLemmatizer\n",
    "from nltk.corpus import wordnet\n",
    "from sklearn.feature_extraction.text import TfidfVectorizer\n",
    "from sklearn.model_selection import train_test_split, GridSearchCV\n",
    "from sklearn.linear_model import LogisticRegression\n",
    "from sklearn.metrics import f1_score\n",
    "from sklearn.pipeline import Pipeline\n",
    "from catboost import CatBoostClassifier"
   ]
  },
  {
   "cell_type": "code",
   "execution_count": 2,
   "metadata": {},
   "outputs": [],
   "source": [
    "RANDOM_SEED = 12345"
   ]
  },
  {
   "cell_type": "code",
   "execution_count": 3,
   "metadata": {},
   "outputs": [],
   "source": [
    "data = pd.read_csv('toxic_comments.csv', index_col=0)"
   ]
  },
  {
   "cell_type": "code",
   "execution_count": 4,
   "metadata": {},
   "outputs": [
    {
     "name": "stdout",
     "output_type": "stream",
     "text": [
      "<class 'pandas.core.frame.DataFrame'>\n",
      "Int64Index: 159292 entries, 0 to 159450\n",
      "Data columns (total 2 columns):\n",
      " #   Column  Non-Null Count   Dtype \n",
      "---  ------  --------------   ----- \n",
      " 0   text    159292 non-null  object\n",
      " 1   toxic   159292 non-null  int64 \n",
      "dtypes: int64(1), object(1)\n",
      "memory usage: 3.6+ MB\n"
     ]
    }
   ],
   "source": [
    "data.info()"
   ]
  },
  {
   "cell_type": "code",
   "execution_count": 5,
   "metadata": {},
   "outputs": [
    {
     "data": {
      "text/html": [
       "<div>\n",
       "<style scoped>\n",
       "    .dataframe tbody tr th:only-of-type {\n",
       "        vertical-align: middle;\n",
       "    }\n",
       "\n",
       "    .dataframe tbody tr th {\n",
       "        vertical-align: top;\n",
       "    }\n",
       "\n",
       "    .dataframe thead th {\n",
       "        text-align: right;\n",
       "    }\n",
       "</style>\n",
       "<table border=\"1\" class=\"dataframe\">\n",
       "  <thead>\n",
       "    <tr style=\"text-align: right;\">\n",
       "      <th></th>\n",
       "      <th>text</th>\n",
       "      <th>toxic</th>\n",
       "    </tr>\n",
       "  </thead>\n",
       "  <tbody>\n",
       "    <tr>\n",
       "      <th>0</th>\n",
       "      <td>Explanation\\nWhy the edits made under my usern...</td>\n",
       "      <td>0</td>\n",
       "    </tr>\n",
       "    <tr>\n",
       "      <th>1</th>\n",
       "      <td>D'aww! He matches this background colour I'm s...</td>\n",
       "      <td>0</td>\n",
       "    </tr>\n",
       "    <tr>\n",
       "      <th>2</th>\n",
       "      <td>Hey man, I'm really not trying to edit war. It...</td>\n",
       "      <td>0</td>\n",
       "    </tr>\n",
       "    <tr>\n",
       "      <th>3</th>\n",
       "      <td>\"\\nMore\\nI can't make any real suggestions on ...</td>\n",
       "      <td>0</td>\n",
       "    </tr>\n",
       "    <tr>\n",
       "      <th>4</th>\n",
       "      <td>You, sir, are my hero. Any chance you remember...</td>\n",
       "      <td>0</td>\n",
       "    </tr>\n",
       "    <tr>\n",
       "      <th>5</th>\n",
       "      <td>\"\\n\\nCongratulations from me as well, use the ...</td>\n",
       "      <td>0</td>\n",
       "    </tr>\n",
       "    <tr>\n",
       "      <th>6</th>\n",
       "      <td>COCKSUCKER BEFORE YOU PISS AROUND ON MY WORK</td>\n",
       "      <td>1</td>\n",
       "    </tr>\n",
       "    <tr>\n",
       "      <th>7</th>\n",
       "      <td>Your vandalism to the Matt Shirvington article...</td>\n",
       "      <td>0</td>\n",
       "    </tr>\n",
       "    <tr>\n",
       "      <th>8</th>\n",
       "      <td>Sorry if the word 'nonsense' was offensive to ...</td>\n",
       "      <td>0</td>\n",
       "    </tr>\n",
       "    <tr>\n",
       "      <th>9</th>\n",
       "      <td>alignment on this subject and which are contra...</td>\n",
       "      <td>0</td>\n",
       "    </tr>\n",
       "  </tbody>\n",
       "</table>\n",
       "</div>"
      ],
      "text/plain": [
       "                                                text  toxic\n",
       "0  Explanation\\nWhy the edits made under my usern...      0\n",
       "1  D'aww! He matches this background colour I'm s...      0\n",
       "2  Hey man, I'm really not trying to edit war. It...      0\n",
       "3  \"\\nMore\\nI can't make any real suggestions on ...      0\n",
       "4  You, sir, are my hero. Any chance you remember...      0\n",
       "5  \"\\n\\nCongratulations from me as well, use the ...      0\n",
       "6       COCKSUCKER BEFORE YOU PISS AROUND ON MY WORK      1\n",
       "7  Your vandalism to the Matt Shirvington article...      0\n",
       "8  Sorry if the word 'nonsense' was offensive to ...      0\n",
       "9  alignment on this subject and which are contra...      0"
      ]
     },
     "execution_count": 5,
     "metadata": {},
     "output_type": "execute_result"
    }
   ],
   "source": [
    "data.head(10)"
   ]
  },
  {
   "cell_type": "markdown",
   "metadata": {},
   "source": [
    "Загрузка данных и их проверка"
   ]
  },
  {
   "cell_type": "code",
   "execution_count": 6,
   "metadata": {},
   "outputs": [],
   "source": [
    "def clear_the_text(text):\n",
    "    text = re.sub(r\"(?:\\n|\\r)\", \" \", text)\n",
    "    text = re.sub(r\"[^a-zA-Z ]+\", \"\", text).strip()\n",
    "    text = text.lower()\n",
    "    return text"
   ]
  },
  {
   "cell_type": "code",
   "execution_count": 7,
   "metadata": {},
   "outputs": [],
   "source": [
    "data['text'] = data['text'].apply(clear_the_text)"
   ]
  },
  {
   "cell_type": "code",
   "execution_count": 8,
   "metadata": {},
   "outputs": [
    {
     "data": {
      "text/plain": [
       "0    explanation why the edits made under my userna...\n",
       "1    daww he matches this background colour im seem...\n",
       "2    hey man im really not trying to edit war its j...\n",
       "3    more i cant make any real suggestions on impro...\n",
       "4    you sir are my hero any chance you remember wh...\n",
       "Name: text, dtype: object"
      ]
     },
     "execution_count": 8,
     "metadata": {},
     "output_type": "execute_result"
    }
   ],
   "source": [
    "data['text'].head(5)"
   ]
  },
  {
   "cell_type": "markdown",
   "metadata": {},
   "source": [
    "Избавился от лишних символов в тексте"
   ]
  },
  {
   "cell_type": "code",
   "execution_count": 9,
   "metadata": {},
   "outputs": [
    {
     "name": "stderr",
     "output_type": "stream",
     "text": [
      "[nltk_data] Downloading package wordnet to /home/jovyan/nltk_data...\n",
      "[nltk_data]   Package wordnet is already up-to-date!\n",
      "[nltk_data] Downloading package averaged_perceptron_tagger to\n",
      "[nltk_data]     /home/jovyan/nltk_data...\n",
      "[nltk_data]   Package averaged_perceptron_tagger is already up-to-\n",
      "[nltk_data]       date!\n",
      "[nltk_data] Downloading package omw-1.4 to /home/jovyan/nltk_data...\n",
      "[nltk_data]   Package omw-1.4 is already up-to-date!\n"
     ]
    },
    {
     "data": {
      "text/plain": [
       "True"
      ]
     },
     "execution_count": 9,
     "metadata": {},
     "output_type": "execute_result"
    }
   ],
   "source": [
    "nltk.download('wordnet')\n",
    "nltk.download('averaged_perceptron_tagger')\n",
    "nltk.download('omw-1.4')"
   ]
  },
  {
   "cell_type": "code",
   "execution_count": 10,
   "metadata": {},
   "outputs": [],
   "source": [
    "lemmatizer = WordNetLemmatizer()"
   ]
  },
  {
   "cell_type": "code",
   "execution_count": 11,
   "metadata": {},
   "outputs": [],
   "source": [
    "corpus = data['text'].values"
   ]
  },
  {
   "cell_type": "code",
   "execution_count": 12,
   "metadata": {},
   "outputs": [
    {
     "data": {
      "text/plain": [
       "array(['explanation why the edits made under my username hardcore metallica fan were reverted they werent vandalisms just closure on some gas after i voted at new york dolls fac and please dont remove the template from the talk page since im retired now',\n",
       "       'daww he matches this background colour im seemingly stuck with thanks  talk  january   utc',\n",
       "       'hey man im really not trying to edit war its just that this guy is constantly removing relevant information and talking to me through edits instead of my talk page he seems to care more about the formatting than the actual info',\n",
       "       ...,\n",
       "       'spitzer   umm theres no actual article for prostitution ring   crunch captain',\n",
       "       'and it looks like it was actually you who put on the speedy to have the first version deleted now that i look at it',\n",
       "       'and  i really dont think you understand  i came here and my idea was bad right away  what kind of community goes you have bad ideas go away instead of helping rewrite them'],\n",
       "      dtype=object)"
      ]
     },
     "execution_count": 12,
     "metadata": {},
     "output_type": "execute_result"
    }
   ],
   "source": [
    "corpus"
   ]
  },
  {
   "cell_type": "code",
   "execution_count": 13,
   "metadata": {},
   "outputs": [],
   "source": [
    "def get_wordnet_pos(word):\n",
    "    tag = nltk.pos_tag([word])[0][1][0].upper()\n",
    "    tag_dict = {\"J\": wordnet.ADJ,\n",
    "                \"N\": wordnet.NOUN,\n",
    "                \"V\": wordnet.VERB,\n",
    "                \"R\": wordnet.ADV}\n",
    "    return tag_dict.get(tag, wordnet.NOUN)"
   ]
  },
  {
   "cell_type": "code",
   "execution_count": 14,
   "metadata": {},
   "outputs": [],
   "source": [
    "def lemmatize_text(text):\n",
    "    return \" \".join([lemmatizer.lemmatize(w, get_wordnet_pos(w)) for w in text.split()])"
   ]
  },
  {
   "cell_type": "code",
   "execution_count": 21,
   "metadata": {},
   "outputs": [],
   "source": [
    "tqdm.pandas()"
   ]
  },
  {
   "cell_type": "code",
   "execution_count": 22,
   "metadata": {},
   "outputs": [
    {
     "name": "stderr",
     "output_type": "stream",
     "text": [
      "100%|██████████| 159292/159292 [19:32<00:00, 135.84it/s]\n"
     ]
    }
   ],
   "source": [
    "data['text'] = data['text'].progress_apply(lemmatize_text)"
   ]
  },
  {
   "cell_type": "markdown",
   "metadata": {},
   "source": [
    "Лемматизация текста"
   ]
  },
  {
   "cell_type": "markdown",
   "metadata": {},
   "source": [
    "## Обучение"
   ]
  },
  {
   "cell_type": "markdown",
   "metadata": {},
   "source": [
    "Как было сказано в предисловии, объема оперативной памяти может не хватить для выполнения проекта с BERT, поэтому для начала попробую использовать TF-IDF"
   ]
  },
  {
   "cell_type": "code",
   "execution_count": 47,
   "metadata": {},
   "outputs": [
    {
     "name": "stderr",
     "output_type": "stream",
     "text": [
      "[nltk_data] Downloading package stopwords to /home/jovyan/nltk_data...\n",
      "[nltk_data]   Package stopwords is already up-to-date!\n"
     ]
    }
   ],
   "source": [
    "nltk.download('stopwords')\n",
    "stopwords = set(nltk_stopwords.words('english'))"
   ]
  },
  {
   "cell_type": "code",
   "execution_count": 48,
   "metadata": {},
   "outputs": [],
   "source": [
    "stopwords_list = list(stopwords)\n",
    "count_tf_idf = TfidfVectorizer(stop_words=stopwords_list) "
   ]
  },
  {
   "cell_type": "markdown",
   "metadata": {},
   "source": [
    "Загрузка стоп-слов"
   ]
  },
  {
   "cell_type": "code",
   "execution_count": 49,
   "metadata": {},
   "outputs": [],
   "source": [
    "X = data['text']\n",
    "y = data['toxic'].values\n",
    "X_train, X_test, y_train, y_test = train_test_split(X, y, test_size = 0.2, random_state = RANDOM_SEED)"
   ]
  },
  {
   "cell_type": "code",
   "execution_count": 50,
   "metadata": {},
   "outputs": [
    {
     "data": {
      "text/plain": [
       "(127433, 31859)"
      ]
     },
     "execution_count": 50,
     "metadata": {},
     "output_type": "execute_result"
    }
   ],
   "source": [
    "X_train.shape[0], X_test.shape[0]"
   ]
  },
  {
   "cell_type": "markdown",
   "metadata": {},
   "source": [
    "Разделение выборки на тренировочную и тестовую"
   ]
  },
  {
   "cell_type": "code",
   "execution_count": 51,
   "metadata": {},
   "outputs": [],
   "source": [
    "tfidf_train = count_tf_idf.fit_transform(X_train)\n",
    "tfidf_test = count_tf_idf.transform(X_test)"
   ]
  },
  {
   "cell_type": "markdown",
   "metadata": {},
   "source": [
    "Вычисление TF-IDF"
   ]
  },
  {
   "cell_type": "code",
   "execution_count": 52,
   "metadata": {},
   "outputs": [],
   "source": [
    "linear_model = LogisticRegression(max_iter=200, \n",
    "                                  random_state = RANDOM_SEED, \n",
    "                                  solver='liblinear', \n",
    "                                  class_weight='balanced',\n",
    "                                  penalty='l2',\n",
    "                                  C=4)"
   ]
  },
  {
   "cell_type": "code",
   "execution_count": 53,
   "metadata": {},
   "outputs": [],
   "source": [
    "linear_grid_search = GridSearchCV(estimator=linear_model, param_grid={}, cv=3, scoring='f1')"
   ]
  },
  {
   "cell_type": "code",
   "execution_count": 54,
   "metadata": {},
   "outputs": [
    {
     "name": "stdout",
     "output_type": "stream",
     "text": [
      "CPU times: user 39.9 s, sys: 37.6 s, total: 1min 17s\n",
      "Wall time: 1min 17s\n"
     ]
    },
    {
     "data": {
      "text/plain": [
       "GridSearchCV(cv=3,\n",
       "             estimator=LogisticRegression(C=4, class_weight='balanced',\n",
       "                                          max_iter=200, random_state=12345,\n",
       "                                          solver='liblinear'),\n",
       "             param_grid={}, scoring='f1')"
      ]
     },
     "execution_count": 54,
     "metadata": {},
     "output_type": "execute_result"
    }
   ],
   "source": [
    "%%time\n",
    "linear_grid_search.fit(tfidf_train, y_train)"
   ]
  },
  {
   "cell_type": "markdown",
   "metadata": {},
   "source": [
    "Для расчета использую линейную регрессию и кросс валидацию"
   ]
  },
  {
   "cell_type": "code",
   "execution_count": 55,
   "metadata": {},
   "outputs": [
    {
     "name": "stdout",
     "output_type": "stream",
     "text": [
      "Лучшее значение F1: 0.7536743053632611\n"
     ]
    }
   ],
   "source": [
    "print(\"Лучшее значение F1:\", linear_grid_search.best_score_)"
   ]
  },
  {
   "cell_type": "code",
   "execution_count": 56,
   "metadata": {},
   "outputs": [],
   "source": [
    "# catboost_param_grid = {\n",
    "#     'learning_rate': [0.01, 0.1], \n",
    "#     'depth': [4, 6],  \n",
    "#     'iterations': [100, 200] \n",
    "# }"
   ]
  },
  {
   "cell_type": "code",
   "execution_count": 57,
   "metadata": {},
   "outputs": [],
   "source": [
    "# catboost_model = CatBoostClassifier(random_seed=RANDOM_SEED)"
   ]
  },
  {
   "cell_type": "code",
   "execution_count": 58,
   "metadata": {},
   "outputs": [],
   "source": [
    "# catboost_grid_search = GridSearchCV(estimator=catboost_model, \n",
    "#                                     param_grid=catboost_param_grid, \n",
    "#                                     cv=3, \n",
    "#                                     scoring='f1', \n",
    "#                                     n_jobs=-1)"
   ]
  },
  {
   "cell_type": "code",
   "execution_count": 59,
   "metadata": {},
   "outputs": [],
   "source": [
    "# %%time\n",
    "# catboost_grid_search.fit(tfidf_train, y_train)"
   ]
  },
  {
   "cell_type": "code",
   "execution_count": 60,
   "metadata": {},
   "outputs": [],
   "source": [
    "# print(\"Лучшее значение F1:\", catboost_grid_search.best_score_)"
   ]
  },
  {
   "cell_type": "markdown",
   "metadata": {},
   "source": [
    "Попытка проверить градиентный бустинг крашит ядро"
   ]
  },
  {
   "cell_type": "code",
   "execution_count": 61,
   "metadata": {},
   "outputs": [
    {
     "name": "stdout",
     "output_type": "stream",
     "text": [
      "Значение F1 на тестовой выборке: 0.7575503355704697\n"
     ]
    }
   ],
   "source": [
    "best_linear = linear_grid_search.best_estimator_\n",
    "pred = best_linear.predict(tfidf_test)\n",
    "\n",
    "print(\"Значение F1 на тестовой выборке:\", f1_score(y_test, pred))"
   ]
  },
  {
   "cell_type": "markdown",
   "metadata": {},
   "source": [
    "Проверка на тестовой выборке"
   ]
  },
  {
   "cell_type": "markdown",
   "metadata": {},
   "source": [
    "## Выводы"
   ]
  },
  {
   "cell_type": "markdown",
   "metadata": {},
   "source": [
    "В ходе выполнения проекта начальные тексты были очищены от ненужных символов и далее лемматизированны \n",
    "\n",
    "Была получена модель линейной регрессии, способная определять токсичность текстов с точностью 0,76 процентов, что является удовлетворительным значением для заказчика"
   ]
  }
 ],
 "metadata": {
  "ExecuteTimeLog": [
   {
    "duration": 54,
    "start_time": "2024-06-08T04:42:35.776Z"
   },
   {
    "duration": 383,
    "start_time": "2024-06-08T04:42:47.070Z"
   },
   {
    "duration": 2378,
    "start_time": "2024-06-08T04:42:47.455Z"
   },
   {
    "duration": 43,
    "start_time": "2024-06-08T04:42:57.364Z"
   },
   {
    "duration": 12,
    "start_time": "2024-06-08T04:43:12.474Z"
   },
   {
    "duration": 112,
    "start_time": "2024-06-08T04:45:30.151Z"
   },
   {
    "duration": 907,
    "start_time": "2024-06-08T05:11:32.938Z"
   },
   {
    "duration": 2814,
    "start_time": "2024-06-08T05:12:39.731Z"
   },
   {
    "duration": 141,
    "start_time": "2024-06-08T05:13:23.764Z"
   },
   {
    "duration": 1208,
    "start_time": "2024-06-10T06:37:01.696Z"
   },
   {
    "duration": 3119,
    "start_time": "2024-06-10T06:37:02.905Z"
   },
   {
    "duration": 18,
    "start_time": "2024-06-10T06:37:06.025Z"
   },
   {
    "duration": 20,
    "start_time": "2024-06-10T06:37:06.045Z"
   },
   {
    "duration": 2135,
    "start_time": "2024-06-10T06:37:06.067Z"
   },
   {
    "duration": 231,
    "start_time": "2024-06-10T06:37:25.509Z"
   },
   {
    "duration": 8377,
    "start_time": "2024-06-10T14:31:05.495Z"
   },
   {
    "duration": 8225,
    "start_time": "2024-06-10T14:31:46.811Z"
   },
   {
    "duration": 4,
    "start_time": "2024-06-10T14:32:11.778Z"
   },
   {
    "duration": 2,
    "start_time": "2024-06-10T15:00:32.682Z"
   },
   {
    "duration": 2,
    "start_time": "2024-06-10T15:00:50.013Z"
   },
   {
    "duration": 972,
    "start_time": "2024-06-10T15:04:21.056Z"
   },
   {
    "duration": 3,
    "start_time": "2024-06-10T15:05:33.822Z"
   },
   {
    "duration": 3,
    "start_time": "2024-06-10T15:05:34.842Z"
   },
   {
    "duration": 4,
    "start_time": "2024-06-10T15:05:45.789Z"
   },
   {
    "duration": 104,
    "start_time": "2024-06-10T15:06:01.087Z"
   },
   {
    "duration": 297,
    "start_time": "2024-06-10T15:06:11.026Z"
   },
   {
    "duration": 3,
    "start_time": "2024-06-10T15:06:44.429Z"
   },
   {
    "duration": 3,
    "start_time": "2024-06-10T15:06:48.308Z"
   },
   {
    "duration": 3,
    "start_time": "2024-06-10T15:06:48.851Z"
   },
   {
    "duration": 297,
    "start_time": "2024-06-10T15:06:50.193Z"
   },
   {
    "duration": 361,
    "start_time": "2024-06-10T15:07:37.374Z"
   },
   {
    "duration": 2,
    "start_time": "2024-06-10T15:07:39.610Z"
   },
   {
    "duration": 3,
    "start_time": "2024-06-10T15:07:39.815Z"
   },
   {
    "duration": 2,
    "start_time": "2024-06-10T15:07:40.010Z"
   },
   {
    "duration": 990827,
    "start_time": "2024-06-10T15:07:41.687Z"
   },
   {
    "duration": 1225,
    "start_time": "2024-06-10T19:26:25.586Z"
   },
   {
    "duration": 3262,
    "start_time": "2024-06-10T19:26:26.813Z"
   },
   {
    "duration": 16,
    "start_time": "2024-06-10T19:26:30.076Z"
   },
   {
    "duration": 43,
    "start_time": "2024-06-10T19:26:30.093Z"
   },
   {
    "duration": 740,
    "start_time": "2024-06-10T19:26:30.138Z"
   },
   {
    "duration": 2,
    "start_time": "2024-06-10T19:26:30.880Z"
   },
   {
    "duration": 12,
    "start_time": "2024-06-10T19:26:30.884Z"
   },
   {
    "duration": 26,
    "start_time": "2024-06-10T19:26:30.897Z"
   },
   {
    "duration": 507597,
    "start_time": "2024-06-10T19:26:30.925Z"
   },
   {
    "duration": 0,
    "start_time": "2024-06-10T19:34:58.524Z"
   },
   {
    "duration": 0,
    "start_time": "2024-06-10T19:34:58.525Z"
   },
   {
    "duration": 0,
    "start_time": "2024-06-10T19:34:58.526Z"
   },
   {
    "duration": 0,
    "start_time": "2024-06-10T19:34:58.526Z"
   },
   {
    "duration": 0,
    "start_time": "2024-06-10T19:34:58.527Z"
   },
   {
    "duration": 3,
    "start_time": "2024-06-10T19:35:34.252Z"
   },
   {
    "duration": 780,
    "start_time": "2024-06-10T19:35:34.522Z"
   },
   {
    "duration": 16,
    "start_time": "2024-06-10T19:35:35.304Z"
   },
   {
    "duration": 19,
    "start_time": "2024-06-10T19:35:35.321Z"
   },
   {
    "duration": 5,
    "start_time": "2024-06-10T19:35:36.800Z"
   },
   {
    "duration": 3,
    "start_time": "2024-06-10T19:35:37.227Z"
   },
   {
    "duration": 2023,
    "start_time": "2024-06-10T19:35:38.667Z"
   },
   {
    "duration": 3,
    "start_time": "2024-06-10T19:35:43.486Z"
   },
   {
    "duration": 4,
    "start_time": "2024-06-10T19:36:14.575Z"
   },
   {
    "duration": 3,
    "start_time": "2024-06-10T19:36:15.124Z"
   },
   {
    "duration": 6,
    "start_time": "2024-06-10T19:36:15.821Z"
   },
   {
    "duration": 3,
    "start_time": "2024-06-10T19:36:20.301Z"
   },
   {
    "duration": 3,
    "start_time": "2024-06-10T19:42:51.992Z"
   },
   {
    "duration": 265,
    "start_time": "2024-06-10T19:43:15.699Z"
   },
   {
    "duration": 3,
    "start_time": "2024-06-10T19:43:19.887Z"
   },
   {
    "duration": 2297,
    "start_time": "2024-06-10T19:43:21.597Z"
   },
   {
    "duration": 5,
    "start_time": "2024-06-10T19:43:33.072Z"
   },
   {
    "duration": 5,
    "start_time": "2024-06-10T19:43:38.864Z"
   },
   {
    "duration": 5,
    "start_time": "2024-06-10T19:43:43.549Z"
   },
   {
    "duration": 2,
    "start_time": "2024-06-10T19:43:44.144Z"
   },
   {
    "duration": 43,
    "start_time": "2024-06-10T19:43:46.988Z"
   },
   {
    "duration": 5,
    "start_time": "2024-06-10T19:43:49.550Z"
   },
   {
    "duration": 1213,
    "start_time": "2024-06-10T19:43:54.044Z"
   },
   {
    "duration": 3248,
    "start_time": "2024-06-10T19:43:55.259Z"
   },
   {
    "duration": 18,
    "start_time": "2024-06-10T19:43:58.508Z"
   },
   {
    "duration": 11,
    "start_time": "2024-06-10T19:43:58.528Z"
   },
   {
    "duration": 2,
    "start_time": "2024-06-10T19:43:58.541Z"
   },
   {
    "duration": 2314,
    "start_time": "2024-06-10T19:43:58.544Z"
   },
   {
    "duration": 4,
    "start_time": "2024-06-10T19:44:00.859Z"
   },
   {
    "duration": 689,
    "start_time": "2024-06-10T19:44:00.865Z"
   },
   {
    "duration": 3,
    "start_time": "2024-06-10T19:44:04.487Z"
   },
   {
    "duration": 2069,
    "start_time": "2024-06-10T19:44:05.368Z"
   },
   {
    "duration": 4,
    "start_time": "2024-06-10T19:44:08.340Z"
   },
   {
    "duration": 3,
    "start_time": "2024-06-10T19:44:22.405Z"
   },
   {
    "duration": 3,
    "start_time": "2024-06-10T19:44:23.336Z"
   },
   {
    "duration": 1179,
    "start_time": "2024-06-10T19:44:28.621Z"
   },
   {
    "duration": 4,
    "start_time": "2024-06-10T19:44:30.650Z"
   },
   {
    "duration": 3,
    "start_time": "2024-06-10T19:45:06.740Z"
   },
   {
    "duration": 799,
    "start_time": "2024-06-10T19:45:06.744Z"
   },
   {
    "duration": 18,
    "start_time": "2024-06-10T19:45:07.544Z"
   },
   {
    "duration": 12,
    "start_time": "2024-06-10T19:45:07.563Z"
   },
   {
    "duration": 6,
    "start_time": "2024-06-10T19:45:07.576Z"
   },
   {
    "duration": 2391,
    "start_time": "2024-06-10T19:45:07.583Z"
   },
   {
    "duration": 4,
    "start_time": "2024-06-10T19:45:09.976Z"
   },
   {
    "duration": 31,
    "start_time": "2024-06-10T19:45:09.982Z"
   },
   {
    "duration": 7,
    "start_time": "2024-06-10T19:45:10.015Z"
   },
   {
    "duration": 54,
    "start_time": "2024-06-10T19:45:13.923Z"
   },
   {
    "duration": 0,
    "start_time": "2024-06-10T19:45:13.979Z"
   },
   {
    "duration": 1229,
    "start_time": "2024-06-10T19:45:19.044Z"
   },
   {
    "duration": 3266,
    "start_time": "2024-06-10T19:45:20.274Z"
   },
   {
    "duration": 16,
    "start_time": "2024-06-10T19:45:23.541Z"
   },
   {
    "duration": 11,
    "start_time": "2024-06-10T19:45:23.558Z"
   },
   {
    "duration": 2,
    "start_time": "2024-06-10T19:45:23.571Z"
   },
   {
    "duration": 2297,
    "start_time": "2024-06-10T19:45:23.574Z"
   },
   {
    "duration": 4,
    "start_time": "2024-06-10T19:45:25.872Z"
   },
   {
    "duration": 428,
    "start_time": "2024-06-10T19:45:25.877Z"
   },
   {
    "duration": 3,
    "start_time": "2024-06-10T19:45:26.306Z"
   },
   {
    "duration": 2,
    "start_time": "2024-06-10T19:45:28.632Z"
   },
   {
    "duration": 2046,
    "start_time": "2024-06-10T19:45:29.470Z"
   },
   {
    "duration": 3,
    "start_time": "2024-06-10T19:45:32.758Z"
   },
   {
    "duration": 4,
    "start_time": "2024-06-10T19:45:34.493Z"
   },
   {
    "duration": 3,
    "start_time": "2024-06-10T19:45:35.091Z"
   },
   {
    "duration": 1177,
    "start_time": "2024-06-10T19:45:35.620Z"
   },
   {
    "duration": 3,
    "start_time": "2024-06-10T19:45:36.799Z"
   },
   {
    "duration": 4,
    "start_time": "2024-06-10T19:46:35.832Z"
   },
   {
    "duration": 2,
    "start_time": "2024-06-10T19:46:52.202Z"
   },
   {
    "duration": 3,
    "start_time": "2024-06-10T19:48:52.255Z"
   },
   {
    "duration": 4,
    "start_time": "2024-06-10T19:50:10.836Z"
   },
   {
    "duration": 49,
    "start_time": "2024-06-10T19:50:14.065Z"
   },
   {
    "duration": 31,
    "start_time": "2024-06-10T19:50:22.303Z"
   },
   {
    "duration": 5,
    "start_time": "2024-06-10T19:50:30.512Z"
   },
   {
    "duration": 5,
    "start_time": "2024-06-10T19:51:03.392Z"
   },
   {
    "duration": 91,
    "start_time": "2024-06-10T19:51:25.199Z"
   },
   {
    "duration": 6221,
    "start_time": "2024-06-10T19:51:46.371Z"
   },
   {
    "duration": 3,
    "start_time": "2024-06-10T19:53:40.442Z"
   },
   {
    "duration": 3,
    "start_time": "2024-06-10T19:54:05.167Z"
   },
   {
    "duration": 3,
    "start_time": "2024-06-10T19:54:39.557Z"
   },
   {
    "duration": 8,
    "start_time": "2024-06-10T19:54:40.169Z"
   },
   {
    "duration": 7,
    "start_time": "2024-06-10T19:55:49.044Z"
   },
   {
    "duration": 3,
    "start_time": "2024-06-10T19:56:05.086Z"
   },
   {
    "duration": 9,
    "start_time": "2024-06-10T19:56:05.784Z"
   },
   {
    "duration": 8,
    "start_time": "2024-06-10T19:56:11.155Z"
   },
   {
    "duration": 2,
    "start_time": "2024-06-10T19:56:17.520Z"
   },
   {
    "duration": 7,
    "start_time": "2024-06-10T19:56:55.697Z"
   },
   {
    "duration": 1168,
    "start_time": "2024-06-10T19:57:29.715Z"
   },
   {
    "duration": 3,
    "start_time": "2024-06-10T19:57:30.885Z"
   },
   {
    "duration": 3387,
    "start_time": "2024-06-10T19:57:30.889Z"
   },
   {
    "duration": 18,
    "start_time": "2024-06-10T19:57:34.277Z"
   },
   {
    "duration": 16,
    "start_time": "2024-06-10T19:57:34.296Z"
   },
   {
    "duration": 3,
    "start_time": "2024-06-10T19:57:34.314Z"
   },
   {
    "duration": 2420,
    "start_time": "2024-06-10T19:57:34.319Z"
   },
   {
    "duration": 4,
    "start_time": "2024-06-10T19:57:36.740Z"
   },
   {
    "duration": 420,
    "start_time": "2024-06-10T19:57:36.746Z"
   },
   {
    "duration": 2,
    "start_time": "2024-06-10T19:57:37.168Z"
   },
   {
    "duration": 2073,
    "start_time": "2024-06-10T19:57:37.172Z"
   },
   {
    "duration": 4,
    "start_time": "2024-06-10T19:57:39.246Z"
   },
   {
    "duration": 3,
    "start_time": "2024-06-10T19:57:39.252Z"
   },
   {
    "duration": 15,
    "start_time": "2024-06-10T19:57:39.257Z"
   },
   {
    "duration": 1245,
    "start_time": "2024-06-10T19:57:39.274Z"
   },
   {
    "duration": 3,
    "start_time": "2024-06-10T19:57:40.521Z"
   },
   {
    "duration": 7,
    "start_time": "2024-06-10T19:57:40.526Z"
   },
   {
    "duration": 5,
    "start_time": "2024-06-10T19:57:40.535Z"
   },
   {
    "duration": 40,
    "start_time": "2024-06-10T19:57:40.541Z"
   },
   {
    "duration": 4,
    "start_time": "2024-06-10T19:57:40.583Z"
   },
   {
    "duration": 4,
    "start_time": "2024-06-10T19:57:40.588Z"
   },
   {
    "duration": 6354,
    "start_time": "2024-06-10T19:57:40.593Z"
   },
   {
    "duration": 2,
    "start_time": "2024-06-10T19:57:46.948Z"
   },
   {
    "duration": 20,
    "start_time": "2024-06-10T19:57:46.951Z"
   },
   {
    "duration": 4,
    "start_time": "2024-06-10T19:57:50.586Z"
   },
   {
    "duration": 158,
    "start_time": "2024-06-10T19:57:54.645Z"
   },
   {
    "duration": 1162,
    "start_time": "2024-06-10T20:02:14.404Z"
   },
   {
    "duration": 3,
    "start_time": "2024-06-10T20:02:15.567Z"
   },
   {
    "duration": 3251,
    "start_time": "2024-06-10T20:02:15.571Z"
   },
   {
    "duration": 18,
    "start_time": "2024-06-10T20:02:18.824Z"
   },
   {
    "duration": 22,
    "start_time": "2024-06-10T20:02:18.843Z"
   },
   {
    "duration": 6,
    "start_time": "2024-06-10T20:02:18.866Z"
   },
   {
    "duration": 2339,
    "start_time": "2024-06-10T20:02:18.873Z"
   },
   {
    "duration": 4,
    "start_time": "2024-06-10T20:02:21.213Z"
   },
   {
    "duration": 415,
    "start_time": "2024-06-10T20:02:21.218Z"
   },
   {
    "duration": 2,
    "start_time": "2024-06-10T20:02:21.635Z"
   },
   {
    "duration": 2087,
    "start_time": "2024-06-10T20:02:21.639Z"
   },
   {
    "duration": 56,
    "start_time": "2024-06-10T20:02:23.728Z"
   },
   {
    "duration": 38,
    "start_time": "2024-06-10T20:02:23.786Z"
   },
   {
    "duration": 25,
    "start_time": "2024-06-10T20:02:23.826Z"
   },
   {
    "duration": 1331,
    "start_time": "2024-06-10T20:02:23.853Z"
   },
   {
    "duration": 3,
    "start_time": "2024-06-10T20:02:25.185Z"
   },
   {
    "duration": 6,
    "start_time": "2024-06-10T20:02:25.190Z"
   },
   {
    "duration": 2,
    "start_time": "2024-06-10T20:02:25.197Z"
   },
   {
    "duration": 30,
    "start_time": "2024-06-10T20:02:25.200Z"
   },
   {
    "duration": 4,
    "start_time": "2024-06-10T20:02:25.231Z"
   },
   {
    "duration": 4,
    "start_time": "2024-06-10T20:02:25.237Z"
   },
   {
    "duration": 4,
    "start_time": "2024-06-10T20:02:25.242Z"
   },
   {
    "duration": 6132,
    "start_time": "2024-06-10T20:02:25.247Z"
   },
   {
    "duration": 31,
    "start_time": "2024-06-10T20:02:45.457Z"
   },
   {
    "duration": 5,
    "start_time": "2024-06-10T20:02:46.039Z"
   },
   {
    "duration": 3,
    "start_time": "2024-06-10T20:02:47.692Z"
   },
   {
    "duration": 4,
    "start_time": "2024-06-10T20:02:47.971Z"
   },
   {
    "duration": 6106,
    "start_time": "2024-06-10T20:02:57.108Z"
   },
   {
    "duration": 2,
    "start_time": "2024-06-10T20:03:38.393Z"
   },
   {
    "duration": 2,
    "start_time": "2024-06-10T20:03:38.759Z"
   },
   {
    "duration": 1222,
    "start_time": "2024-06-10T20:07:10.191Z"
   },
   {
    "duration": 2,
    "start_time": "2024-06-10T20:07:11.415Z"
   },
   {
    "duration": 3358,
    "start_time": "2024-06-10T20:07:11.418Z"
   },
   {
    "duration": 18,
    "start_time": "2024-06-10T20:07:14.778Z"
   },
   {
    "duration": 20,
    "start_time": "2024-06-10T20:07:14.797Z"
   },
   {
    "duration": 3,
    "start_time": "2024-06-10T20:07:14.818Z"
   },
   {
    "duration": 2428,
    "start_time": "2024-06-10T20:07:14.822Z"
   },
   {
    "duration": 5,
    "start_time": "2024-06-10T20:07:17.251Z"
   },
   {
    "duration": 371,
    "start_time": "2024-06-10T20:07:17.257Z"
   },
   {
    "duration": 2,
    "start_time": "2024-06-10T20:07:17.631Z"
   },
   {
    "duration": 2120,
    "start_time": "2024-06-10T20:07:17.634Z"
   },
   {
    "duration": 6,
    "start_time": "2024-06-10T20:07:19.755Z"
   },
   {
    "duration": 9,
    "start_time": "2024-06-10T20:07:19.763Z"
   },
   {
    "duration": 4,
    "start_time": "2024-06-10T20:07:19.773Z"
   },
   {
    "duration": 1233,
    "start_time": "2024-06-10T20:07:19.778Z"
   },
   {
    "duration": 3,
    "start_time": "2024-06-10T20:07:21.013Z"
   },
   {
    "duration": 7,
    "start_time": "2024-06-10T20:07:21.018Z"
   },
   {
    "duration": 4,
    "start_time": "2024-06-10T20:07:21.026Z"
   },
   {
    "duration": 56,
    "start_time": "2024-06-10T20:07:21.031Z"
   },
   {
    "duration": 5,
    "start_time": "2024-06-10T20:07:21.088Z"
   },
   {
    "duration": 22,
    "start_time": "2024-06-10T20:07:21.095Z"
   },
   {
    "duration": 5,
    "start_time": "2024-06-10T20:07:21.118Z"
   },
   {
    "duration": 6442,
    "start_time": "2024-06-10T20:07:21.124Z"
   },
   {
    "duration": 3,
    "start_time": "2024-06-10T20:07:27.567Z"
   },
   {
    "duration": 6,
    "start_time": "2024-06-10T20:07:27.582Z"
   },
   {
    "duration": 2,
    "start_time": "2024-06-10T20:07:29.830Z"
   },
   {
    "duration": 1200,
    "start_time": "2024-06-10T20:07:51.206Z"
   },
   {
    "duration": 2,
    "start_time": "2024-06-10T20:07:52.408Z"
   },
   {
    "duration": 3442,
    "start_time": "2024-06-10T20:07:52.411Z"
   },
   {
    "duration": 16,
    "start_time": "2024-06-10T20:07:55.856Z"
   },
   {
    "duration": 18,
    "start_time": "2024-06-10T20:07:55.874Z"
   },
   {
    "duration": 2,
    "start_time": "2024-06-10T20:07:55.893Z"
   },
   {
    "duration": 2426,
    "start_time": "2024-06-10T20:07:55.897Z"
   },
   {
    "duration": 4,
    "start_time": "2024-06-10T20:07:58.325Z"
   },
   {
    "duration": 409,
    "start_time": "2024-06-10T20:07:58.331Z"
   },
   {
    "duration": 2,
    "start_time": "2024-06-10T20:07:58.742Z"
   },
   {
    "duration": 2075,
    "start_time": "2024-06-10T20:07:58.745Z"
   },
   {
    "duration": 30,
    "start_time": "2024-06-10T20:08:00.821Z"
   },
   {
    "duration": 39,
    "start_time": "2024-06-10T20:08:00.852Z"
   },
   {
    "duration": 82,
    "start_time": "2024-06-10T20:08:00.892Z"
   },
   {
    "duration": 1422,
    "start_time": "2024-06-10T20:08:00.975Z"
   },
   {
    "duration": 3,
    "start_time": "2024-06-10T20:08:02.399Z"
   },
   {
    "duration": 9,
    "start_time": "2024-06-10T20:08:02.403Z"
   },
   {
    "duration": 7,
    "start_time": "2024-06-10T20:08:02.413Z"
   },
   {
    "duration": 42,
    "start_time": "2024-06-10T20:08:02.421Z"
   },
   {
    "duration": 10,
    "start_time": "2024-06-10T20:08:02.465Z"
   },
   {
    "duration": 20,
    "start_time": "2024-06-10T20:08:02.476Z"
   },
   {
    "duration": 5,
    "start_time": "2024-06-10T20:08:02.498Z"
   },
   {
    "duration": 6393,
    "start_time": "2024-06-10T20:08:02.505Z"
   },
   {
    "duration": 3,
    "start_time": "2024-06-10T20:08:08.899Z"
   },
   {
    "duration": 10,
    "start_time": "2024-06-10T20:08:08.903Z"
   },
   {
    "duration": 1245,
    "start_time": "2024-06-10T20:08:26.341Z"
   },
   {
    "duration": 2,
    "start_time": "2024-06-10T20:08:27.588Z"
   },
   {
    "duration": 3305,
    "start_time": "2024-06-10T20:08:27.591Z"
   },
   {
    "duration": 23,
    "start_time": "2024-06-10T20:08:30.898Z"
   },
   {
    "duration": 83,
    "start_time": "2024-06-10T20:08:30.922Z"
   },
   {
    "duration": 18,
    "start_time": "2024-06-10T20:08:31.006Z"
   },
   {
    "duration": 2362,
    "start_time": "2024-06-10T20:08:31.025Z"
   },
   {
    "duration": 4,
    "start_time": "2024-06-10T20:08:33.388Z"
   },
   {
    "duration": 971,
    "start_time": "2024-06-10T20:08:33.394Z"
   },
   {
    "duration": 3,
    "start_time": "2024-06-10T20:08:34.368Z"
   },
   {
    "duration": 2082,
    "start_time": "2024-06-10T20:08:34.372Z"
   },
   {
    "duration": 10,
    "start_time": "2024-06-10T20:08:36.455Z"
   },
   {
    "duration": 5,
    "start_time": "2024-06-10T20:08:36.467Z"
   },
   {
    "duration": 4,
    "start_time": "2024-06-10T20:08:36.473Z"
   },
   {
    "duration": 1186,
    "start_time": "2024-06-10T20:08:36.478Z"
   },
   {
    "duration": 3,
    "start_time": "2024-06-10T20:08:37.666Z"
   },
   {
    "duration": 6,
    "start_time": "2024-06-10T20:08:37.671Z"
   },
   {
    "duration": 6,
    "start_time": "2024-06-10T20:08:37.679Z"
   },
   {
    "duration": 34,
    "start_time": "2024-06-10T20:08:37.686Z"
   },
   {
    "duration": 7,
    "start_time": "2024-06-10T20:08:37.727Z"
   },
   {
    "duration": 10,
    "start_time": "2024-06-10T20:08:37.735Z"
   },
   {
    "duration": 30,
    "start_time": "2024-06-10T20:09:28.098Z"
   },
   {
    "duration": 4,
    "start_time": "2024-06-10T20:09:28.914Z"
   },
   {
    "duration": 107,
    "start_time": "2024-06-10T20:09:30.060Z"
   },
   {
    "duration": 5,
    "start_time": "2024-06-10T20:09:34.901Z"
   },
   {
    "duration": 6115,
    "start_time": "2024-06-10T20:09:35.511Z"
   },
   {
    "duration": 2,
    "start_time": "2024-06-10T20:09:41.628Z"
   },
   {
    "duration": 3,
    "start_time": "2024-06-10T20:09:42.298Z"
   },
   {
    "duration": 1215,
    "start_time": "2024-06-10T20:10:01.365Z"
   },
   {
    "duration": 2,
    "start_time": "2024-06-10T20:10:02.582Z"
   },
   {
    "duration": 3296,
    "start_time": "2024-06-10T20:10:02.585Z"
   },
   {
    "duration": 20,
    "start_time": "2024-06-10T20:10:05.882Z"
   },
   {
    "duration": 17,
    "start_time": "2024-06-10T20:10:05.904Z"
   },
   {
    "duration": 11,
    "start_time": "2024-06-10T20:10:05.923Z"
   },
   {
    "duration": 2337,
    "start_time": "2024-06-10T20:10:05.935Z"
   },
   {
    "duration": 4,
    "start_time": "2024-06-10T20:10:08.274Z"
   },
   {
    "duration": 439,
    "start_time": "2024-06-10T20:10:08.279Z"
   },
   {
    "duration": 3,
    "start_time": "2024-06-10T20:10:08.719Z"
   },
   {
    "duration": 2079,
    "start_time": "2024-06-10T20:10:08.723Z"
   },
   {
    "duration": 15,
    "start_time": "2024-06-10T20:10:10.803Z"
   },
   {
    "duration": 6,
    "start_time": "2024-06-10T20:10:10.819Z"
   },
   {
    "duration": 5,
    "start_time": "2024-06-10T20:10:10.827Z"
   },
   {
    "duration": 1220,
    "start_time": "2024-06-10T20:10:10.833Z"
   },
   {
    "duration": 4,
    "start_time": "2024-06-10T20:10:12.054Z"
   },
   {
    "duration": 6,
    "start_time": "2024-06-10T20:10:12.059Z"
   },
   {
    "duration": 3,
    "start_time": "2024-06-10T20:10:12.071Z"
   },
   {
    "duration": 33,
    "start_time": "2024-06-10T20:10:12.075Z"
   },
   {
    "duration": 4,
    "start_time": "2024-06-10T20:10:12.109Z"
   },
   {
    "duration": 7,
    "start_time": "2024-06-10T20:10:12.114Z"
   },
   {
    "duration": 6058,
    "start_time": "2024-06-10T20:10:12.122Z"
   },
   {
    "duration": 2,
    "start_time": "2024-06-10T20:10:18.181Z"
   },
   {
    "duration": 5,
    "start_time": "2024-06-10T20:10:18.184Z"
   },
   {
    "duration": 1229,
    "start_time": "2024-06-10T20:11:55.158Z"
   },
   {
    "duration": 2,
    "start_time": "2024-06-10T20:11:56.389Z"
   },
   {
    "duration": 3415,
    "start_time": "2024-06-10T20:11:56.392Z"
   },
   {
    "duration": 18,
    "start_time": "2024-06-10T20:11:59.808Z"
   },
   {
    "duration": 12,
    "start_time": "2024-06-10T20:11:59.828Z"
   },
   {
    "duration": 2,
    "start_time": "2024-06-10T20:11:59.841Z"
   },
   {
    "duration": 2496,
    "start_time": "2024-06-10T20:11:59.845Z"
   },
   {
    "duration": 4,
    "start_time": "2024-06-10T20:12:02.343Z"
   },
   {
    "duration": 459,
    "start_time": "2024-06-10T20:12:02.349Z"
   },
   {
    "duration": 2,
    "start_time": "2024-06-10T20:12:02.809Z"
   },
   {
    "duration": 2125,
    "start_time": "2024-06-10T20:12:02.812Z"
   },
   {
    "duration": 10,
    "start_time": "2024-06-10T20:12:04.939Z"
   },
   {
    "duration": 3,
    "start_time": "2024-06-10T20:12:04.950Z"
   },
   {
    "duration": 3,
    "start_time": "2024-06-10T20:12:04.955Z"
   },
   {
    "duration": 1265,
    "start_time": "2024-06-10T20:12:04.959Z"
   },
   {
    "duration": 4,
    "start_time": "2024-06-10T20:12:06.225Z"
   },
   {
    "duration": 9,
    "start_time": "2024-06-10T20:12:06.230Z"
   },
   {
    "duration": 12,
    "start_time": "2024-06-10T20:12:06.241Z"
   },
   {
    "duration": 8544,
    "start_time": "2024-06-10T20:13:01.579Z"
   },
   {
    "duration": 4,
    "start_time": "2024-06-10T20:13:15.497Z"
   },
   {
    "duration": 2,
    "start_time": "2024-06-10T20:13:31.168Z"
   },
   {
    "duration": 2,
    "start_time": "2024-06-10T20:13:46.018Z"
   },
   {
    "duration": 2,
    "start_time": "2024-06-10T20:13:46.793Z"
   },
   {
    "duration": 55,
    "start_time": "2024-06-10T20:15:10.022Z"
   },
   {
    "duration": 3,
    "start_time": "2024-06-10T20:15:17.631Z"
   },
   {
    "duration": 6594,
    "start_time": "2024-06-10T20:15:24.188Z"
   },
   {
    "duration": 2,
    "start_time": "2024-06-10T20:15:31.732Z"
   },
   {
    "duration": 2,
    "start_time": "2024-06-10T20:15:33.394Z"
   },
   {
    "duration": 131932,
    "start_time": "2024-06-10T20:15:42.163Z"
   },
   {
    "duration": 3,
    "start_time": "2024-06-10T20:17:54.097Z"
   },
   {
    "duration": 1180,
    "start_time": "2024-06-10T20:18:00.520Z"
   },
   {
    "duration": 2,
    "start_time": "2024-06-10T20:18:01.702Z"
   },
   {
    "duration": 911,
    "start_time": "2024-06-10T20:18:01.705Z"
   },
   {
    "duration": 17,
    "start_time": "2024-06-10T20:18:02.617Z"
   },
   {
    "duration": 18,
    "start_time": "2024-06-10T20:18:02.636Z"
   },
   {
    "duration": 3,
    "start_time": "2024-06-10T20:18:02.656Z"
   },
   {
    "duration": 2532,
    "start_time": "2024-06-10T20:18:02.679Z"
   },
   {
    "duration": 4,
    "start_time": "2024-06-10T20:18:05.212Z"
   },
   {
    "duration": 311,
    "start_time": "2024-06-10T20:18:05.217Z"
   },
   {
    "duration": 3,
    "start_time": "2024-06-10T20:18:05.529Z"
   },
   {
    "duration": 2116,
    "start_time": "2024-06-10T20:18:05.533Z"
   },
   {
    "duration": 4,
    "start_time": "2024-06-10T20:18:07.650Z"
   },
   {
    "duration": 6,
    "start_time": "2024-06-10T20:18:07.655Z"
   },
   {
    "duration": 4,
    "start_time": "2024-06-10T20:18:07.682Z"
   },
   {
    "duration": 1274,
    "start_time": "2024-06-10T20:18:07.687Z"
   },
   {
    "duration": 3,
    "start_time": "2024-06-10T20:18:08.962Z"
   },
   {
    "duration": 17,
    "start_time": "2024-06-10T20:18:08.966Z"
   },
   {
    "duration": 2,
    "start_time": "2024-06-10T20:18:08.984Z"
   },
   {
    "duration": 32,
    "start_time": "2024-06-10T20:18:08.988Z"
   },
   {
    "duration": 3,
    "start_time": "2024-06-10T20:18:09.022Z"
   },
   {
    "duration": 6245,
    "start_time": "2024-06-10T20:18:09.027Z"
   },
   {
    "duration": 3,
    "start_time": "2024-06-10T20:18:15.273Z"
   },
   {
    "duration": 24,
    "start_time": "2024-06-10T20:18:15.277Z"
   },
   {
    "duration": 1174,
    "start_time": "2024-06-10T20:18:49.082Z"
   },
   {
    "duration": 2,
    "start_time": "2024-06-10T20:18:50.258Z"
   },
   {
    "duration": 890,
    "start_time": "2024-06-10T20:18:50.262Z"
   },
   {
    "duration": 17,
    "start_time": "2024-06-10T20:18:51.154Z"
   },
   {
    "duration": 13,
    "start_time": "2024-06-10T20:18:51.174Z"
   },
   {
    "duration": 3,
    "start_time": "2024-06-10T20:18:51.188Z"
   },
   {
    "duration": 2422,
    "start_time": "2024-06-10T20:18:51.192Z"
   },
   {
    "duration": 4,
    "start_time": "2024-06-10T20:18:53.616Z"
   },
   {
    "duration": 325,
    "start_time": "2024-06-10T20:18:53.621Z"
   },
   {
    "duration": 2,
    "start_time": "2024-06-10T20:18:53.947Z"
   },
   {
    "duration": 2112,
    "start_time": "2024-06-10T20:18:53.950Z"
   },
   {
    "duration": 4,
    "start_time": "2024-06-10T20:18:56.063Z"
   },
   {
    "duration": 3,
    "start_time": "2024-06-10T20:18:56.073Z"
   },
   {
    "duration": 2,
    "start_time": "2024-06-10T20:18:56.079Z"
   },
   {
    "duration": 1234,
    "start_time": "2024-06-10T20:18:56.083Z"
   },
   {
    "duration": 4,
    "start_time": "2024-06-10T20:18:57.318Z"
   },
   {
    "duration": 4,
    "start_time": "2024-06-10T20:18:57.324Z"
   },
   {
    "duration": 3,
    "start_time": "2024-06-10T20:18:57.330Z"
   },
   {
    "duration": 47,
    "start_time": "2024-06-10T20:18:57.334Z"
   },
   {
    "duration": 4,
    "start_time": "2024-06-10T20:18:57.383Z"
   },
   {
    "duration": 6163,
    "start_time": "2024-06-10T20:18:57.389Z"
   },
   {
    "duration": 2,
    "start_time": "2024-06-10T20:19:03.554Z"
   },
   {
    "duration": 4,
    "start_time": "2024-06-10T20:19:03.557Z"
   },
   {
    "duration": 21418,
    "start_time": "2024-06-10T20:19:03.562Z"
   },
   {
    "duration": 3,
    "start_time": "2024-06-10T20:19:24.981Z"
   },
   {
    "duration": 3,
    "start_time": "2024-06-10T20:19:50.383Z"
   },
   {
    "duration": 4,
    "start_time": "2024-06-10T20:19:53.091Z"
   },
   {
    "duration": 3,
    "start_time": "2024-06-10T20:20:06.597Z"
   },
   {
    "duration": 2,
    "start_time": "2024-06-10T20:21:02.119Z"
   },
   {
    "duration": 3,
    "start_time": "2024-06-10T20:21:02.770Z"
   },
   {
    "duration": 3,
    "start_time": "2024-06-10T20:21:03.734Z"
   },
   {
    "duration": 188,
    "start_time": "2024-06-10T20:21:06.338Z"
   },
   {
    "duration": 3,
    "start_time": "2024-06-10T20:21:24.555Z"
   },
   {
    "duration": 69,
    "start_time": "2024-06-10T20:21:25.136Z"
   },
   {
    "duration": 2,
    "start_time": "2024-06-10T20:22:54.878Z"
   },
   {
    "duration": 2,
    "start_time": "2024-06-10T20:22:56.380Z"
   },
   {
    "duration": 3,
    "start_time": "2024-06-10T20:22:56.729Z"
   },
   {
    "duration": 4,
    "start_time": "2024-06-10T20:22:57.319Z"
   },
   {
    "duration": 76,
    "start_time": "2024-06-10T20:22:57.983Z"
   },
   {
    "duration": 3,
    "start_time": "2024-06-10T20:23:30.303Z"
   },
   {
    "duration": 58,
    "start_time": "2024-06-10T20:23:31.060Z"
   },
   {
    "duration": 1213,
    "start_time": "2024-06-10T20:27:25.475Z"
   },
   {
    "duration": 3,
    "start_time": "2024-06-10T20:27:26.689Z"
   },
   {
    "duration": 890,
    "start_time": "2024-06-10T20:27:26.693Z"
   },
   {
    "duration": 19,
    "start_time": "2024-06-10T20:27:27.585Z"
   },
   {
    "duration": 11,
    "start_time": "2024-06-10T20:27:27.605Z"
   },
   {
    "duration": 5,
    "start_time": "2024-06-10T20:27:27.617Z"
   },
   {
    "duration": 2519,
    "start_time": "2024-06-10T20:27:27.623Z"
   },
   {
    "duration": 4,
    "start_time": "2024-06-10T20:27:30.144Z"
   },
   {
    "duration": 336,
    "start_time": "2024-06-10T20:27:30.149Z"
   },
   {
    "duration": 3,
    "start_time": "2024-06-10T20:27:30.487Z"
   },
   {
    "duration": 2155,
    "start_time": "2024-06-10T20:27:30.491Z"
   },
   {
    "duration": 38,
    "start_time": "2024-06-10T20:27:32.647Z"
   },
   {
    "duration": 3,
    "start_time": "2024-06-10T20:27:32.686Z"
   },
   {
    "duration": 25,
    "start_time": "2024-06-10T20:27:32.691Z"
   },
   {
    "duration": 1222,
    "start_time": "2024-06-10T20:27:32.717Z"
   },
   {
    "duration": 4,
    "start_time": "2024-06-10T20:27:33.940Z"
   },
   {
    "duration": 5,
    "start_time": "2024-06-10T20:27:33.946Z"
   },
   {
    "duration": 7,
    "start_time": "2024-06-10T20:27:33.953Z"
   },
   {
    "duration": 25,
    "start_time": "2024-06-10T20:27:33.971Z"
   },
   {
    "duration": 152,
    "start_time": "2024-06-10T20:27:33.998Z"
   },
   {
    "duration": 0,
    "start_time": "2024-06-10T20:27:34.151Z"
   },
   {
    "duration": 0,
    "start_time": "2024-06-10T20:27:34.152Z"
   },
   {
    "duration": 0,
    "start_time": "2024-06-10T20:27:34.153Z"
   },
   {
    "duration": 0,
    "start_time": "2024-06-10T20:27:34.154Z"
   },
   {
    "duration": 4,
    "start_time": "2024-06-10T20:27:41.828Z"
   },
   {
    "duration": 5244,
    "start_time": "2024-06-10T20:27:42.821Z"
   },
   {
    "duration": 6357,
    "start_time": "2024-06-10T20:27:48.963Z"
   },
   {
    "duration": 2,
    "start_time": "2024-06-10T20:27:56.620Z"
   },
   {
    "duration": 4,
    "start_time": "2024-06-10T20:27:57.083Z"
   },
   {
    "duration": 7,
    "start_time": "2024-06-10T20:27:58.943Z"
   },
   {
    "duration": 10,
    "start_time": "2024-06-10T20:28:07.104Z"
   },
   {
    "duration": 10,
    "start_time": "2024-06-10T20:29:27.155Z"
   },
   {
    "duration": 2,
    "start_time": "2024-06-10T20:29:48.595Z"
   },
   {
    "duration": 7,
    "start_time": "2024-06-10T20:29:49.522Z"
   },
   {
    "duration": 10,
    "start_time": "2024-06-10T20:29:55.983Z"
   },
   {
    "duration": 3,
    "start_time": "2024-06-10T20:30:58.725Z"
   },
   {
    "duration": 7,
    "start_time": "2024-06-10T20:31:02.687Z"
   },
   {
    "duration": 3,
    "start_time": "2024-06-10T20:31:30.829Z"
   },
   {
    "duration": 8,
    "start_time": "2024-06-10T20:31:31.548Z"
   },
   {
    "duration": 3,
    "start_time": "2024-06-10T20:31:41.032Z"
   },
   {
    "duration": 2,
    "start_time": "2024-06-10T20:31:41.592Z"
   },
   {
    "duration": 4,
    "start_time": "2024-06-10T20:31:54.621Z"
   },
   {
    "duration": 7,
    "start_time": "2024-06-10T20:31:56.055Z"
   },
   {
    "duration": 7,
    "start_time": "2024-06-10T20:32:11.304Z"
   },
   {
    "duration": 29848,
    "start_time": "2024-06-10T20:32:51.534Z"
   },
   {
    "duration": 7,
    "start_time": "2024-06-10T20:33:41.267Z"
   },
   {
    "duration": 2,
    "start_time": "2024-06-10T20:33:47.126Z"
   },
   {
    "duration": 2,
    "start_time": "2024-06-10T20:33:47.400Z"
   },
   {
    "duration": 2,
    "start_time": "2024-06-10T20:33:47.705Z"
   },
   {
    "duration": 29752,
    "start_time": "2024-06-10T20:33:48.134Z"
   },
   {
    "duration": 3,
    "start_time": "2024-06-10T20:34:22.594Z"
   },
   {
    "duration": 3,
    "start_time": "2024-06-10T20:34:25.695Z"
   },
   {
    "duration": 3,
    "start_time": "2024-06-10T20:34:28.025Z"
   },
   {
    "duration": 3,
    "start_time": "2024-06-10T20:34:34.983Z"
   },
   {
    "duration": 3,
    "start_time": "2024-06-10T20:34:35.263Z"
   },
   {
    "duration": 2,
    "start_time": "2024-06-10T20:34:35.481Z"
   },
   {
    "duration": 3,
    "start_time": "2024-06-10T20:34:35.847Z"
   },
   {
    "duration": 30368,
    "start_time": "2024-06-10T20:34:37.018Z"
   },
   {
    "duration": 4,
    "start_time": "2024-06-10T20:35:07.388Z"
   },
   {
    "duration": 2,
    "start_time": "2024-06-10T20:35:38.542Z"
   },
   {
    "duration": 3,
    "start_time": "2024-06-10T20:35:38.913Z"
   },
   {
    "duration": 3,
    "start_time": "2024-06-10T20:35:39.183Z"
   },
   {
    "duration": 2,
    "start_time": "2024-06-10T20:35:39.510Z"
   },
   {
    "duration": 1267,
    "start_time": "2024-06-10T20:37:08.822Z"
   },
   {
    "duration": 0,
    "start_time": "2024-06-10T20:37:10.092Z"
   },
   {
    "duration": 0,
    "start_time": "2024-06-10T20:37:10.093Z"
   },
   {
    "duration": 0,
    "start_time": "2024-06-10T20:37:10.093Z"
   },
   {
    "duration": 0,
    "start_time": "2024-06-10T20:37:10.094Z"
   },
   {
    "duration": 0,
    "start_time": "2024-06-10T20:37:10.096Z"
   },
   {
    "duration": 0,
    "start_time": "2024-06-10T20:37:10.097Z"
   },
   {
    "duration": 0,
    "start_time": "2024-06-10T20:37:10.098Z"
   },
   {
    "duration": 0,
    "start_time": "2024-06-10T20:37:10.099Z"
   },
   {
    "duration": 0,
    "start_time": "2024-06-10T20:37:10.100Z"
   },
   {
    "duration": 0,
    "start_time": "2024-06-10T20:37:10.101Z"
   },
   {
    "duration": 0,
    "start_time": "2024-06-10T20:37:10.102Z"
   },
   {
    "duration": 0,
    "start_time": "2024-06-10T20:37:10.103Z"
   },
   {
    "duration": 0,
    "start_time": "2024-06-10T20:37:10.104Z"
   },
   {
    "duration": 0,
    "start_time": "2024-06-10T20:37:10.105Z"
   },
   {
    "duration": 0,
    "start_time": "2024-06-10T20:37:10.106Z"
   },
   {
    "duration": 0,
    "start_time": "2024-06-10T20:37:10.107Z"
   },
   {
    "duration": 0,
    "start_time": "2024-06-10T20:37:10.108Z"
   },
   {
    "duration": 0,
    "start_time": "2024-06-10T20:37:10.108Z"
   },
   {
    "duration": 0,
    "start_time": "2024-06-10T20:37:10.109Z"
   },
   {
    "duration": 0,
    "start_time": "2024-06-10T20:37:10.110Z"
   },
   {
    "duration": 0,
    "start_time": "2024-06-10T20:37:10.111Z"
   },
   {
    "duration": 0,
    "start_time": "2024-06-10T20:37:10.112Z"
   },
   {
    "duration": 0,
    "start_time": "2024-06-10T20:37:10.113Z"
   },
   {
    "duration": 0,
    "start_time": "2024-06-10T20:37:10.114Z"
   },
   {
    "duration": 0,
    "start_time": "2024-06-10T20:37:10.115Z"
   },
   {
    "duration": 4,
    "start_time": "2024-06-10T20:37:26.094Z"
   },
   {
    "duration": 7,
    "start_time": "2024-06-10T20:37:26.099Z"
   },
   {
    "duration": 895,
    "start_time": "2024-06-10T20:37:26.107Z"
   },
   {
    "duration": 16,
    "start_time": "2024-06-10T20:37:27.003Z"
   },
   {
    "duration": 12,
    "start_time": "2024-06-10T20:37:27.020Z"
   },
   {
    "duration": 2,
    "start_time": "2024-06-10T20:37:27.033Z"
   },
   {
    "duration": 2497,
    "start_time": "2024-06-10T20:37:27.037Z"
   },
   {
    "duration": 4,
    "start_time": "2024-06-10T20:37:29.535Z"
   },
   {
    "duration": 244,
    "start_time": "2024-06-10T20:37:29.540Z"
   },
   {
    "duration": 2,
    "start_time": "2024-06-10T20:37:29.787Z"
   },
   {
    "duration": 2130,
    "start_time": "2024-06-10T20:37:29.791Z"
   },
   {
    "duration": 7,
    "start_time": "2024-06-10T20:37:31.922Z"
   },
   {
    "duration": 4,
    "start_time": "2024-06-10T20:37:31.930Z"
   },
   {
    "duration": 5,
    "start_time": "2024-06-10T20:37:31.935Z"
   },
   {
    "duration": 1273,
    "start_time": "2024-06-10T20:37:31.942Z"
   },
   {
    "duration": 3,
    "start_time": "2024-06-10T20:37:33.217Z"
   },
   {
    "duration": 5,
    "start_time": "2024-06-10T20:37:33.221Z"
   },
   {
    "duration": 12,
    "start_time": "2024-06-10T20:37:33.227Z"
   },
   {
    "duration": 27,
    "start_time": "2024-06-10T20:37:33.240Z"
   },
   {
    "duration": 18,
    "start_time": "2024-06-10T20:37:33.269Z"
   },
   {
    "duration": 6421,
    "start_time": "2024-06-10T20:37:33.288Z"
   },
   {
    "duration": 2,
    "start_time": "2024-06-10T20:37:39.710Z"
   },
   {
    "duration": 6,
    "start_time": "2024-06-10T20:37:39.713Z"
   },
   {
    "duration": 4,
    "start_time": "2024-06-10T20:37:39.721Z"
   },
   {
    "duration": 182797,
    "start_time": "2024-06-10T20:37:39.726Z"
   },
   {
    "duration": 3,
    "start_time": "2024-06-10T20:40:42.524Z"
   },
   {
    "duration": 1206,
    "start_time": "2024-06-10T20:40:49.481Z"
   },
   {
    "duration": 2,
    "start_time": "2024-06-10T20:40:50.689Z"
   },
   {
    "duration": 931,
    "start_time": "2024-06-10T20:40:50.693Z"
   },
   {
    "duration": 17,
    "start_time": "2024-06-10T20:40:51.625Z"
   },
   {
    "duration": 11,
    "start_time": "2024-06-10T20:40:51.644Z"
   },
   {
    "duration": 26,
    "start_time": "2024-06-10T20:40:51.656Z"
   },
   {
    "duration": 2503,
    "start_time": "2024-06-10T20:40:51.684Z"
   },
   {
    "duration": 5,
    "start_time": "2024-06-10T20:40:54.189Z"
   },
   {
    "duration": 324,
    "start_time": "2024-06-10T20:40:54.195Z"
   },
   {
    "duration": 2,
    "start_time": "2024-06-10T20:40:54.521Z"
   },
   {
    "duration": 2168,
    "start_time": "2024-06-10T20:40:54.524Z"
   },
   {
    "duration": 14,
    "start_time": "2024-06-10T20:40:56.694Z"
   },
   {
    "duration": 8,
    "start_time": "2024-06-10T20:40:56.710Z"
   },
   {
    "duration": 3,
    "start_time": "2024-06-10T20:40:56.721Z"
   },
   {
    "duration": 1278,
    "start_time": "2024-06-10T20:40:56.725Z"
   },
   {
    "duration": 4,
    "start_time": "2024-06-10T20:40:58.005Z"
   },
   {
    "duration": 4,
    "start_time": "2024-06-10T20:40:58.011Z"
   },
   {
    "duration": 3,
    "start_time": "2024-06-10T20:40:58.016Z"
   },
   {
    "duration": 21,
    "start_time": "2024-06-10T20:40:58.020Z"
   },
   {
    "duration": 4,
    "start_time": "2024-06-10T20:40:58.042Z"
   },
   {
    "duration": 6570,
    "start_time": "2024-06-10T20:40:58.047Z"
   },
   {
    "duration": 2,
    "start_time": "2024-06-10T20:41:04.618Z"
   },
   {
    "duration": 9,
    "start_time": "2024-06-10T20:41:04.621Z"
   },
   {
    "duration": 7,
    "start_time": "2024-06-10T20:41:04.631Z"
   },
   {
    "duration": 27854,
    "start_time": "2024-06-10T20:41:04.639Z"
   },
   {
    "duration": 3,
    "start_time": "2024-06-10T20:41:32.494Z"
   },
   {
    "duration": 3,
    "start_time": "2024-06-10T20:42:00.287Z"
   },
   {
    "duration": 1217,
    "start_time": "2024-06-11T06:08:42.844Z"
   },
   {
    "duration": 2,
    "start_time": "2024-06-11T06:08:44.062Z"
   },
   {
    "duration": 3290,
    "start_time": "2024-06-11T06:08:44.066Z"
   },
   {
    "duration": 23,
    "start_time": "2024-06-11T06:08:47.358Z"
   },
   {
    "duration": 13,
    "start_time": "2024-06-11T06:08:47.383Z"
   },
   {
    "duration": 6,
    "start_time": "2024-06-11T06:08:47.397Z"
   },
   {
    "duration": 2368,
    "start_time": "2024-06-11T06:08:47.405Z"
   },
   {
    "duration": 4,
    "start_time": "2024-06-11T06:08:49.775Z"
   },
   {
    "duration": 2213,
    "start_time": "2024-06-11T06:08:49.780Z"
   },
   {
    "duration": 3,
    "start_time": "2024-06-11T06:08:51.995Z"
   },
   {
    "duration": 2115,
    "start_time": "2024-06-11T06:08:51.999Z"
   },
   {
    "duration": 15,
    "start_time": "2024-06-11T06:08:54.115Z"
   },
   {
    "duration": 3,
    "start_time": "2024-06-11T06:08:54.131Z"
   },
   {
    "duration": 3,
    "start_time": "2024-06-11T06:08:54.136Z"
   },
   {
    "duration": 1184,
    "start_time": "2024-06-11T06:08:54.140Z"
   },
   {
    "duration": 3,
    "start_time": "2024-06-11T06:08:55.326Z"
   },
   {
    "duration": 18,
    "start_time": "2024-06-11T06:08:55.331Z"
   },
   {
    "duration": 14,
    "start_time": "2024-06-11T06:08:55.351Z"
   },
   {
    "duration": 36,
    "start_time": "2024-06-11T06:08:55.366Z"
   },
   {
    "duration": 5,
    "start_time": "2024-06-11T06:08:55.404Z"
   },
   {
    "duration": 6494,
    "start_time": "2024-06-11T06:08:55.410Z"
   },
   {
    "duration": 4,
    "start_time": "2024-06-11T06:09:01.905Z"
   },
   {
    "duration": 65,
    "start_time": "2024-06-11T06:09:01.910Z"
   },
   {
    "duration": 23,
    "start_time": "2024-06-11T06:09:01.977Z"
   },
   {
    "duration": 26512,
    "start_time": "2024-06-11T06:09:02.002Z"
   },
   {
    "duration": 3,
    "start_time": "2024-06-11T06:09:28.515Z"
   },
   {
    "duration": 107,
    "start_time": "2024-06-11T06:11:01.294Z"
   },
   {
    "duration": 2,
    "start_time": "2024-06-11T06:11:07.817Z"
   },
   {
    "duration": 2,
    "start_time": "2024-06-11T06:11:08.559Z"
   },
   {
    "duration": 3,
    "start_time": "2024-06-11T06:11:09.588Z"
   },
   {
    "duration": 38976,
    "start_time": "2024-06-11T06:11:09.845Z"
   },
   {
    "duration": 3,
    "start_time": "2024-06-11T06:11:48.823Z"
   },
   {
    "duration": 3,
    "start_time": "2024-06-11T06:12:23.447Z"
   },
   {
    "duration": 2,
    "start_time": "2024-06-11T06:12:23.753Z"
   },
   {
    "duration": 2,
    "start_time": "2024-06-11T06:12:24.314Z"
   },
   {
    "duration": 53722,
    "start_time": "2024-06-11T06:12:24.576Z"
   },
   {
    "duration": 3,
    "start_time": "2024-06-11T06:13:18.299Z"
   },
   {
    "duration": 3,
    "start_time": "2024-06-11T06:13:41.070Z"
   },
   {
    "duration": 3,
    "start_time": "2024-06-11T06:13:41.654Z"
   },
   {
    "duration": 93,
    "start_time": "2024-06-11T06:13:42.103Z"
   },
   {
    "duration": 3,
    "start_time": "2024-06-11T06:14:02.889Z"
   },
   {
    "duration": 4,
    "start_time": "2024-06-11T06:14:03.059Z"
   },
   {
    "duration": 38893,
    "start_time": "2024-06-11T06:14:03.526Z"
   },
   {
    "duration": 3,
    "start_time": "2024-06-11T06:14:42.420Z"
   },
   {
    "duration": 2,
    "start_time": "2024-06-11T06:15:24.640Z"
   },
   {
    "duration": 3,
    "start_time": "2024-06-11T06:15:25.456Z"
   },
   {
    "duration": 15285,
    "start_time": "2024-06-11T06:15:28.083Z"
   },
   {
    "duration": 4,
    "start_time": "2024-06-11T06:15:43.369Z"
   },
   {
    "duration": 2,
    "start_time": "2024-06-11T06:17:18.957Z"
   },
   {
    "duration": 2,
    "start_time": "2024-06-11T06:17:19.135Z"
   },
   {
    "duration": 39094,
    "start_time": "2024-06-11T06:17:19.324Z"
   },
   {
    "duration": 3,
    "start_time": "2024-06-11T06:17:58.420Z"
   },
   {
    "duration": 3,
    "start_time": "2024-06-11T06:20:21.937Z"
   },
   {
    "duration": 7,
    "start_time": "2024-06-11T06:20:22.703Z"
   },
   {
    "duration": 44,
    "start_time": "2024-06-11T06:20:27.532Z"
   },
   {
    "duration": 9,
    "start_time": "2024-06-11T06:20:31.235Z"
   },
   {
    "duration": 3,
    "start_time": "2024-06-11T06:20:37.414Z"
   },
   {
    "duration": 8,
    "start_time": "2024-06-11T06:20:41.622Z"
   },
   {
    "duration": 55,
    "start_time": "2024-06-11T06:20:54.073Z"
   },
   {
    "duration": 2,
    "start_time": "2024-06-11T06:20:57.381Z"
   },
   {
    "duration": 46,
    "start_time": "2024-06-11T06:21:02.025Z"
   },
   {
    "duration": 1287,
    "start_time": "2024-06-11T06:21:16.422Z"
   },
   {
    "duration": 2,
    "start_time": "2024-06-11T06:21:17.711Z"
   },
   {
    "duration": 3280,
    "start_time": "2024-06-11T06:21:17.714Z"
   },
   {
    "duration": 27,
    "start_time": "2024-06-11T06:21:20.995Z"
   },
   {
    "duration": 11,
    "start_time": "2024-06-11T06:21:21.024Z"
   },
   {
    "duration": 8,
    "start_time": "2024-06-11T06:21:21.036Z"
   },
   {
    "duration": 2348,
    "start_time": "2024-06-11T06:21:21.045Z"
   },
   {
    "duration": 4,
    "start_time": "2024-06-11T06:21:23.395Z"
   },
   {
    "duration": 340,
    "start_time": "2024-06-11T06:21:23.400Z"
   },
   {
    "duration": 2,
    "start_time": "2024-06-11T06:21:23.742Z"
   },
   {
    "duration": 2072,
    "start_time": "2024-06-11T06:21:23.746Z"
   },
   {
    "duration": 16,
    "start_time": "2024-06-11T06:21:25.820Z"
   },
   {
    "duration": 20,
    "start_time": "2024-06-11T06:21:25.837Z"
   },
   {
    "duration": 11,
    "start_time": "2024-06-11T06:21:25.860Z"
   },
   {
    "duration": 1249,
    "start_time": "2024-06-11T06:21:25.873Z"
   },
   {
    "duration": 4,
    "start_time": "2024-06-11T06:21:27.123Z"
   },
   {
    "duration": 8,
    "start_time": "2024-06-11T06:21:27.128Z"
   },
   {
    "duration": 4,
    "start_time": "2024-06-11T06:21:27.138Z"
   },
   {
    "duration": 22,
    "start_time": "2024-06-11T06:21:27.143Z"
   },
   {
    "duration": 4,
    "start_time": "2024-06-11T06:21:27.166Z"
   },
   {
    "duration": 6412,
    "start_time": "2024-06-11T06:21:27.172Z"
   },
   {
    "duration": 2,
    "start_time": "2024-06-11T06:21:33.586Z"
   },
   {
    "duration": 5,
    "start_time": "2024-06-11T06:21:33.589Z"
   },
   {
    "duration": 38024,
    "start_time": "2024-06-11T06:21:33.595Z"
   },
   {
    "duration": 2,
    "start_time": "2024-06-11T06:22:11.621Z"
   },
   {
    "duration": 4,
    "start_time": "2024-06-11T06:22:11.624Z"
   },
   {
    "duration": 3,
    "start_time": "2024-06-11T06:22:11.629Z"
   },
   {
    "duration": 3,
    "start_time": "2024-06-11T06:22:11.634Z"
   },
   {
    "duration": 1271,
    "start_time": "2024-06-11T06:22:26.845Z"
   },
   {
    "duration": 2,
    "start_time": "2024-06-11T06:22:28.118Z"
   },
   {
    "duration": 3265,
    "start_time": "2024-06-11T06:22:28.121Z"
   },
   {
    "duration": 20,
    "start_time": "2024-06-11T06:22:31.387Z"
   },
   {
    "duration": 61,
    "start_time": "2024-06-11T06:22:31.408Z"
   },
   {
    "duration": 3,
    "start_time": "2024-06-11T06:22:31.471Z"
   },
   {
    "duration": 2337,
    "start_time": "2024-06-11T06:22:31.476Z"
   },
   {
    "duration": 4,
    "start_time": "2024-06-11T06:22:33.814Z"
   },
   {
    "duration": 427,
    "start_time": "2024-06-11T06:22:33.819Z"
   },
   {
    "duration": 2,
    "start_time": "2024-06-11T06:22:34.248Z"
   },
   {
    "duration": 2071,
    "start_time": "2024-06-11T06:22:34.251Z"
   },
   {
    "duration": 15,
    "start_time": "2024-06-11T06:22:36.323Z"
   },
   {
    "duration": 17,
    "start_time": "2024-06-11T06:22:36.339Z"
   },
   {
    "duration": 12,
    "start_time": "2024-06-11T06:22:36.358Z"
   },
   {
    "duration": 1239,
    "start_time": "2024-06-11T06:22:36.371Z"
   },
   {
    "duration": 5,
    "start_time": "2024-06-11T06:22:37.611Z"
   },
   {
    "duration": 12,
    "start_time": "2024-06-11T06:22:37.617Z"
   },
   {
    "duration": 12,
    "start_time": "2024-06-11T06:22:37.630Z"
   },
   {
    "duration": 21,
    "start_time": "2024-06-11T06:22:37.643Z"
   },
   {
    "duration": 4,
    "start_time": "2024-06-11T06:22:37.665Z"
   },
   {
    "duration": 6344,
    "start_time": "2024-06-11T06:22:37.670Z"
   },
   {
    "duration": 3,
    "start_time": "2024-06-11T06:22:44.015Z"
   },
   {
    "duration": 5,
    "start_time": "2024-06-11T06:22:44.019Z"
   },
   {
    "duration": 37695,
    "start_time": "2024-06-11T06:22:44.025Z"
   },
   {
    "duration": 3,
    "start_time": "2024-06-11T06:23:21.722Z"
   },
   {
    "duration": 14,
    "start_time": "2024-06-11T06:23:21.727Z"
   },
   {
    "duration": 12,
    "start_time": "2024-06-11T06:23:21.742Z"
   },
   {
    "duration": 28,
    "start_time": "2024-06-11T06:23:21.755Z"
   },
   {
    "duration": 1219,
    "start_time": "2024-06-11T06:26:49.452Z"
   },
   {
    "duration": 2,
    "start_time": "2024-06-11T06:26:50.673Z"
   },
   {
    "duration": 3286,
    "start_time": "2024-06-11T06:26:50.676Z"
   },
   {
    "duration": 23,
    "start_time": "2024-06-11T06:26:53.964Z"
   },
   {
    "duration": 12,
    "start_time": "2024-06-11T06:26:53.989Z"
   },
   {
    "duration": 3,
    "start_time": "2024-06-11T06:26:54.002Z"
   },
   {
    "duration": 2349,
    "start_time": "2024-06-11T06:26:54.009Z"
   },
   {
    "duration": 5,
    "start_time": "2024-06-11T06:26:56.359Z"
   },
   {
    "duration": 364,
    "start_time": "2024-06-11T06:26:56.365Z"
   },
   {
    "duration": 2,
    "start_time": "2024-06-11T06:26:56.731Z"
   },
   {
    "duration": 2096,
    "start_time": "2024-06-11T06:26:56.735Z"
   },
   {
    "duration": 3,
    "start_time": "2024-06-11T06:26:58.833Z"
   },
   {
    "duration": 41,
    "start_time": "2024-06-11T06:26:58.838Z"
   },
   {
    "duration": 22,
    "start_time": "2024-06-11T06:26:58.881Z"
   },
   {
    "duration": 1323,
    "start_time": "2024-06-11T06:26:58.904Z"
   },
   {
    "duration": 4,
    "start_time": "2024-06-11T06:27:00.229Z"
   },
   {
    "duration": 53,
    "start_time": "2024-06-11T06:27:00.234Z"
   },
   {
    "duration": 44,
    "start_time": "2024-06-11T06:27:00.288Z"
   },
   {
    "duration": 72,
    "start_time": "2024-06-11T06:27:00.334Z"
   },
   {
    "duration": 41,
    "start_time": "2024-06-11T06:27:00.408Z"
   },
   {
    "duration": 6361,
    "start_time": "2024-06-11T06:27:00.450Z"
   },
   {
    "duration": 2,
    "start_time": "2024-06-11T06:27:06.813Z"
   },
   {
    "duration": 26,
    "start_time": "2024-06-11T06:27:06.816Z"
   },
   {
    "duration": 18,
    "start_time": "2024-06-11T06:27:06.844Z"
   },
   {
    "duration": 122,
    "start_time": "2024-06-11T06:27:06.863Z"
   },
   {
    "duration": 0,
    "start_time": "2024-06-11T06:27:06.986Z"
   },
   {
    "duration": 0,
    "start_time": "2024-06-11T06:27:06.987Z"
   },
   {
    "duration": 0,
    "start_time": "2024-06-11T06:27:06.988Z"
   },
   {
    "duration": 0,
    "start_time": "2024-06-11T06:27:06.988Z"
   },
   {
    "duration": 0,
    "start_time": "2024-06-11T06:27:06.989Z"
   },
   {
    "duration": 3,
    "start_time": "2024-06-11T06:27:10.901Z"
   },
   {
    "duration": 3,
    "start_time": "2024-06-11T06:27:13.663Z"
   },
   {
    "duration": 3,
    "start_time": "2024-06-11T06:27:14.731Z"
   },
   {
    "duration": 1261,
    "start_time": "2024-06-11T06:28:15.507Z"
   },
   {
    "duration": 2,
    "start_time": "2024-06-11T06:28:16.770Z"
   },
   {
    "duration": 3293,
    "start_time": "2024-06-11T06:28:16.773Z"
   },
   {
    "duration": 24,
    "start_time": "2024-06-11T06:28:20.068Z"
   },
   {
    "duration": 37,
    "start_time": "2024-06-11T06:28:20.094Z"
   },
   {
    "duration": 9,
    "start_time": "2024-06-11T06:28:20.133Z"
   },
   {
    "duration": 2378,
    "start_time": "2024-06-11T06:28:20.144Z"
   },
   {
    "duration": 5,
    "start_time": "2024-06-11T06:28:22.523Z"
   },
   {
    "duration": 400,
    "start_time": "2024-06-11T06:28:22.529Z"
   },
   {
    "duration": 2,
    "start_time": "2024-06-11T06:28:22.930Z"
   },
   {
    "duration": 2092,
    "start_time": "2024-06-11T06:28:22.934Z"
   },
   {
    "duration": 23,
    "start_time": "2024-06-11T06:28:25.028Z"
   },
   {
    "duration": 4,
    "start_time": "2024-06-11T06:28:25.053Z"
   },
   {
    "duration": 12,
    "start_time": "2024-06-11T06:28:25.060Z"
   },
   {
    "duration": 1218,
    "start_time": "2024-06-11T06:28:25.074Z"
   },
   {
    "duration": 4,
    "start_time": "2024-06-11T06:28:26.293Z"
   },
   {
    "duration": 5,
    "start_time": "2024-06-11T06:28:26.308Z"
   },
   {
    "duration": 2,
    "start_time": "2024-06-11T06:28:26.314Z"
   },
   {
    "duration": 33,
    "start_time": "2024-06-11T06:28:26.317Z"
   },
   {
    "duration": 3,
    "start_time": "2024-06-11T06:28:26.352Z"
   },
   {
    "duration": 6297,
    "start_time": "2024-06-11T06:28:26.357Z"
   },
   {
    "duration": 3,
    "start_time": "2024-06-11T06:28:32.655Z"
   },
   {
    "duration": 23,
    "start_time": "2024-06-11T06:28:32.659Z"
   },
   {
    "duration": 5,
    "start_time": "2024-06-11T06:28:32.683Z"
   },
   {
    "duration": 10,
    "start_time": "2024-06-11T06:28:32.690Z"
   },
   {
    "duration": 5,
    "start_time": "2024-06-11T06:28:32.701Z"
   },
   {
    "duration": 10,
    "start_time": "2024-06-11T06:28:32.707Z"
   },
   {
    "duration": 11,
    "start_time": "2024-06-11T06:28:32.718Z"
   },
   {
    "duration": 1289,
    "start_time": "2024-06-11T06:29:59.086Z"
   },
   {
    "duration": 2,
    "start_time": "2024-06-11T06:30:00.378Z"
   },
   {
    "duration": 3435,
    "start_time": "2024-06-11T06:30:00.381Z"
   },
   {
    "duration": 24,
    "start_time": "2024-06-11T06:30:03.817Z"
   },
   {
    "duration": 14,
    "start_time": "2024-06-11T06:30:03.843Z"
   },
   {
    "duration": 3,
    "start_time": "2024-06-11T06:30:03.859Z"
   },
   {
    "duration": 2396,
    "start_time": "2024-06-11T06:30:03.863Z"
   },
   {
    "duration": 4,
    "start_time": "2024-06-11T06:30:06.261Z"
   },
   {
    "duration": 427,
    "start_time": "2024-06-11T06:30:06.266Z"
   },
   {
    "duration": 2,
    "start_time": "2024-06-11T06:30:06.695Z"
   },
   {
    "duration": 2082,
    "start_time": "2024-06-11T06:30:06.698Z"
   },
   {
    "duration": 7,
    "start_time": "2024-06-11T06:30:08.782Z"
   },
   {
    "duration": 5,
    "start_time": "2024-06-11T06:30:08.791Z"
   },
   {
    "duration": 8,
    "start_time": "2024-06-11T06:30:08.799Z"
   },
   {
    "duration": 1305,
    "start_time": "2024-06-11T06:30:08.809Z"
   },
   {
    "duration": 3,
    "start_time": "2024-06-11T06:30:10.116Z"
   },
   {
    "duration": 27,
    "start_time": "2024-06-11T06:30:10.121Z"
   },
   {
    "duration": 9,
    "start_time": "2024-06-11T06:30:10.150Z"
   },
   {
    "duration": 52,
    "start_time": "2024-06-11T06:30:10.161Z"
   },
   {
    "duration": 3,
    "start_time": "2024-06-11T06:30:10.214Z"
   },
   {
    "duration": 6500,
    "start_time": "2024-06-11T06:30:10.219Z"
   },
   {
    "duration": 2,
    "start_time": "2024-06-11T06:30:16.721Z"
   },
   {
    "duration": 5,
    "start_time": "2024-06-11T06:30:16.724Z"
   },
   {
    "duration": 59086,
    "start_time": "2024-06-11T06:30:16.730Z"
   },
   {
    "duration": 3,
    "start_time": "2024-06-11T06:31:15.817Z"
   },
   {
    "duration": 9,
    "start_time": "2024-06-11T06:31:15.821Z"
   },
   {
    "duration": 5,
    "start_time": "2024-06-11T06:31:15.831Z"
   },
   {
    "duration": 20,
    "start_time": "2024-06-11T06:31:15.837Z"
   },
   {
    "duration": 15,
    "start_time": "2024-06-11T06:31:15.858Z"
   },
   {
    "duration": 14,
    "start_time": "2024-06-11T06:31:15.875Z"
   },
   {
    "duration": 115,
    "start_time": "2024-06-11T06:31:45.319Z"
   },
   {
    "duration": 10,
    "start_time": "2024-06-11T06:32:45.154Z"
   },
   {
    "duration": 15,
    "start_time": "2024-06-11T06:32:59.620Z"
   },
   {
    "duration": 20,
    "start_time": "2024-06-11T06:33:34.239Z"
   },
   {
    "duration": 55,
    "start_time": "2024-06-11T06:40:29.537Z"
   },
   {
    "duration": 1433,
    "start_time": "2024-06-11T16:38:48.545Z"
   },
   {
    "duration": 2,
    "start_time": "2024-06-11T16:38:59.557Z"
   },
   {
    "duration": 2493,
    "start_time": "2024-06-11T16:39:00.604Z"
   },
   {
    "duration": 32,
    "start_time": "2024-06-11T16:39:05.444Z"
   },
   {
    "duration": 14,
    "start_time": "2024-06-11T16:39:07.384Z"
   },
   {
    "duration": 4,
    "start_time": "2024-06-11T16:39:09.930Z"
   },
   {
    "duration": 2727,
    "start_time": "2024-06-11T16:39:10.355Z"
   },
   {
    "duration": 5,
    "start_time": "2024-06-11T16:39:13.085Z"
   },
   {
    "duration": 1999,
    "start_time": "2024-06-11T16:39:13.093Z"
   },
   {
    "duration": 3,
    "start_time": "2024-06-11T16:39:15.094Z"
   },
   {
    "duration": 2,
    "start_time": "2024-06-11T16:39:28.437Z"
   },
   {
    "duration": 4,
    "start_time": "2024-06-11T16:39:29.339Z"
   },
   {
    "duration": 4,
    "start_time": "2024-06-11T16:39:31.238Z"
   },
   {
    "duration": 3,
    "start_time": "2024-06-11T16:39:32.453Z"
   },
   {
    "duration": 121,
    "start_time": "2024-06-11T16:40:11.883Z"
   },
   {
    "duration": 9,
    "start_time": "2024-06-11T16:43:39.732Z"
   },
   {
    "duration": 8,
    "start_time": "2024-06-11T16:43:58.910Z"
   },
   {
    "duration": 10,
    "start_time": "2024-06-11T16:48:23.332Z"
   },
   {
    "duration": 111414,
    "start_time": "2024-06-11T16:48:50.333Z"
   },
   {
    "duration": 0,
    "start_time": "2024-06-11T16:50:41.749Z"
   },
   {
    "duration": 1440,
    "start_time": "2024-06-11T16:50:50.429Z"
   },
   {
    "duration": 2,
    "start_time": "2024-06-11T16:50:51.871Z"
   },
   {
    "duration": 1081,
    "start_time": "2024-06-11T16:50:51.875Z"
   },
   {
    "duration": 33,
    "start_time": "2024-06-11T16:50:52.958Z"
   },
   {
    "duration": 36,
    "start_time": "2024-06-11T16:50:52.993Z"
   },
   {
    "duration": 34,
    "start_time": "2024-06-11T16:50:53.030Z"
   },
   {
    "duration": 2713,
    "start_time": "2024-06-11T16:50:53.066Z"
   },
   {
    "duration": 5,
    "start_time": "2024-06-11T16:50:55.781Z"
   },
   {
    "duration": 300,
    "start_time": "2024-06-11T16:50:55.787Z"
   },
   {
    "duration": 3,
    "start_time": "2024-06-11T16:50:56.089Z"
   },
   {
    "duration": 8,
    "start_time": "2024-06-11T16:50:56.094Z"
   },
   {
    "duration": 7,
    "start_time": "2024-06-11T16:50:56.104Z"
   },
   {
    "duration": 8,
    "start_time": "2024-06-11T16:50:56.112Z"
   },
   {
    "duration": 4,
    "start_time": "2024-06-11T16:50:56.121Z"
   },
   {
    "duration": 137,
    "start_time": "2024-06-11T16:50:56.126Z"
   },
   {
    "duration": 4,
    "start_time": "2024-06-11T16:51:24.343Z"
   },
   {
    "duration": 10,
    "start_time": "2024-06-11T16:51:27.452Z"
   },
   {
    "duration": 3027,
    "start_time": "2024-06-11T16:52:36.635Z"
   },
   {
    "duration": 4,
    "start_time": "2024-06-11T16:52:41.085Z"
   },
   {
    "duration": 22,
    "start_time": "2024-06-11T16:52:44.761Z"
   },
   {
    "duration": 4,
    "start_time": "2024-06-11T16:53:33.379Z"
   },
   {
    "duration": 1172672,
    "start_time": "2024-06-11T16:53:34.325Z"
   },
   {
    "duration": 5,
    "start_time": "2024-06-11T17:13:10.364Z"
   },
   {
    "duration": 6,
    "start_time": "2024-06-11T17:13:17.554Z"
   },
   {
    "duration": 2,
    "start_time": "2024-06-11T17:13:18.391Z"
   },
   {
    "duration": 40,
    "start_time": "2024-06-11T17:13:19.054Z"
   },
   {
    "duration": 4,
    "start_time": "2024-06-11T17:13:20.953Z"
   },
   {
    "duration": 7365,
    "start_time": "2024-06-11T17:13:23.045Z"
   },
   {
    "duration": 3,
    "start_time": "2024-06-11T17:13:30.413Z"
   },
   {
    "duration": 22,
    "start_time": "2024-06-11T17:13:30.418Z"
   },
   {
    "duration": 80738,
    "start_time": "2024-06-11T17:13:30.442Z"
   },
   {
    "duration": 3,
    "start_time": "2024-06-11T17:14:51.181Z"
   },
   {
    "duration": 15,
    "start_time": "2024-06-11T17:14:51.186Z"
   },
   {
    "duration": 15,
    "start_time": "2024-06-11T17:14:51.202Z"
   },
   {
    "duration": 9,
    "start_time": "2024-06-11T17:14:51.219Z"
   },
   {
    "duration": 13,
    "start_time": "2024-06-11T17:14:51.230Z"
   },
   {
    "duration": 10,
    "start_time": "2024-06-11T17:14:51.245Z"
   },
   {
    "duration": 34,
    "start_time": "2024-06-11T17:14:51.257Z"
   },
   {
    "duration": 3,
    "start_time": "2024-06-11T17:15:19.032Z"
   },
   {
    "duration": 3,
    "start_time": "2024-06-11T17:15:20.096Z"
   },
   {
    "duration": 4,
    "start_time": "2024-06-11T17:15:20.635Z"
   },
   {
    "duration": 323633,
    "start_time": "2024-06-11T17:15:21.929Z"
   },
   {
    "duration": 25,
    "start_time": "2024-06-11T17:20:45.565Z"
   },
   {
    "duration": 3,
    "start_time": "2024-06-11T17:22:44.336Z"
   },
   {
    "duration": 24,
    "start_time": "2024-06-11T17:22:45.772Z"
   },
   {
    "duration": 65,
    "start_time": "2024-06-11T17:23:31.121Z"
   },
   {
    "duration": 4,
    "start_time": "2024-06-11T17:23:39.293Z"
   },
   {
    "duration": 17,
    "start_time": "2024-06-11T17:23:40.161Z"
   },
   {
    "duration": 40,
    "start_time": "2024-06-11T17:23:40.559Z"
   },
   {
    "duration": 4,
    "start_time": "2024-06-11T17:23:41.143Z"
   },
   {
    "duration": 7536,
    "start_time": "2024-06-11T17:23:42.912Z"
   },
   {
    "duration": 4,
    "start_time": "2024-06-11T17:23:50.451Z"
   },
   {
    "duration": 29,
    "start_time": "2024-06-11T17:23:50.456Z"
   },
   {
    "duration": 77582,
    "start_time": "2024-06-11T17:23:50.487Z"
   },
   {
    "duration": 4,
    "start_time": "2024-06-11T17:25:08.070Z"
   },
   {
    "duration": 19,
    "start_time": "2024-06-11T17:25:08.075Z"
   },
   {
    "duration": 11,
    "start_time": "2024-06-11T17:25:08.096Z"
   },
   {
    "duration": 13,
    "start_time": "2024-06-11T17:25:08.109Z"
   },
   {
    "duration": 28,
    "start_time": "2024-06-11T17:25:08.124Z"
   },
   {
    "duration": 17,
    "start_time": "2024-06-11T17:25:08.154Z"
   },
   {
    "duration": 25,
    "start_time": "2024-06-11T17:25:08.174Z"
   }
  ],
  "kernelspec": {
   "display_name": "Python 3 (ipykernel)",
   "language": "python",
   "name": "python3"
  },
  "language_info": {
   "codemirror_mode": {
    "name": "ipython",
    "version": 3
   },
   "file_extension": ".py",
   "mimetype": "text/x-python",
   "name": "python",
   "nbconvert_exporter": "python",
   "pygments_lexer": "ipython3",
   "version": "3.12.4"
  },
  "toc": {
   "base_numbering": 1,
   "nav_menu": {},
   "number_sections": true,
   "sideBar": true,
   "skip_h1_title": true,
   "title_cell": "Содержание",
   "title_sidebar": "Contents",
   "toc_cell": true,
   "toc_position": {
    "height": "calc(100% - 180px)",
    "left": "10px",
    "top": "150px",
    "width": "302.391px"
   },
   "toc_section_display": true,
   "toc_window_display": false
  }
 },
 "nbformat": 4,
 "nbformat_minor": 4
}
